{
 "cells": [
  {
   "cell_type": "code",
   "execution_count": null,
   "metadata": {},
   "outputs": [],
   "source": [
    "import pandas as pd\n",
    "import numpy as np\n",
    "import UsefulFunctions as UF\n",
    "import seaborn as sns\n",
    "import matplotlib.pyplot as plt\n",
    "import os\n",
    "\n",
    "root = \"C:\\\\Users\\\\b01297ar\\\\Documents\\\\ProstateMRL-local\\\\ProstateMRL-Radiomics\\\\Data\\\\Ttest\\\\\"\n",
    "\n",
    "files = os.listdir(root + \"Tries\\\\\")\n",
    "df_all = pd.DataFrame()\n",
    "\n",
    "for f in files:\n",
    "    df_t = pd.read_csv(root + \"Tries\\\\\" + f)\n",
    "    # drop first column\n",
    "    #df_t = df_t.drop(df.columns[0], axis=1)\n",
    "    df_all = df_all.append(df_t, ignore_index = True)\n",
    "\n",
    "\n",
    "df_all = df_all.drop(df_all.columns[0], axis=1)\n"
   ]
  },
  {
   "cell_type": "code",
   "execution_count": null,
   "metadata": {},
   "outputs": [],
   "source": [
    "# get average number of tries for each startTval\n",
    "df_avg_mn = df_all.groupby(\"StartTval\").mean()\n",
    "df_avg_sd = df_all.groupby(\"StartTval\").std()\n",
    "# only keep the number of tries column\n",
    "#df_avg.set_index(\"StartTval\", inplace = True)\n",
    "df_avg_mn = df_avg_mn[\"Tries\"]\n",
    "df_avg_sd = df_avg_sd[\"Tries\"]\n",
    "df_avg = pd.DataFrame()\n",
    "df_avg[\"Mean\"] = df_avg_mn\n",
    "df_avg[\"Sd\"] = df_avg_sd\n",
    "df_avg.index.name = \"StartTval\"\n",
    "#print(df_avg)\n",
    "\n",
    "# plot\n",
    "sns.set_theme(style=\"whitegrid\")\n",
    "sns.set_context(\"paper\", font_scale=1.5, rc={\"lines.linewidth\": 2.5})\n",
    "plt.figure(figsize=(12, 8))\n",
    "sns.lineplot(x=df_avg.index, y=df_avg.Mean, marker=\"o\", color = \"blue\", legend=False)\n",
    "sns.lineplot(x=df_avg.index, y=df_avg.Sd, marker=\"o\", color = \"red\", legend=False)\n",
    "plt.xlabel(\"Start Tval\", fontsize = 20)\n",
    "plt.xticks(np.arange(1, 3.01, step=0.25))\n",
    "plt.ylabel(\"Attempts\", fontsize = 20)\n",
    "plt.legend([\"Mean\", \"Sd\"], fontsize = \"20\")\n",
    "plt.title(\"Number of attempts to cluster\", fontsize = 30)\n",
    "plt.show()\n",
    "\n"
   ]
  },
  {
   "cell_type": "code",
   "execution_count": null,
   "metadata": {},
   "outputs": [],
   "source": [
    "\n",
    "\n",
    "# t-vals to colours for plotting\n",
    "tvals = np.arange(1, 3.01, step=0.25)\n",
    "colours = sns.color_palette(\"colorblind\", len(tvals))\n",
    "\n",
    "df_plot = df_all.copy()\n",
    "\n",
    "# violin plot\n",
    "sns.set_theme(style=\"whitegrid\")\n",
    "sns.set_context(\"paper\", font_scale=1.5, rc={\"lines.linewidth\": 2.5})\n",
    "plt.figure(figsize=(12, 8))\n",
    "sns.violinplot(x=\"StartTval\", y=\"Tries\", hue=\"StartTval\", palette=colours, data=df_plot)\n",
    "plt.xlabel(\"Start Tval\", fontsize = 20)\n",
    "#plt.xticks(np.arange(1, 3.01, step=0.25))\n",
    "plt.ylabel(\"Attempts\", fontsize = 20)\n",
    "#plt.legend(fontsize = \"16\", title = \"Start Tval\", title_fontsize = \"20\", loc = \"upper right\")\n",
    "plt.title(\"Number of attempts to cluster\", fontsize = 30)\n",
    "plt.show()\n",
    "\n"
   ]
  },
  {
   "cell_type": "code",
   "execution_count": null,
   "metadata": {},
   "outputs": [],
   "source": [
    "df_plot2 = df_all.copy()\n",
    "\n",
    "# groupy by startTval and patID and get mean\n",
    "df_plot2 = df_plot2.groupby([\"StartTval\", \"PatID\"]).mean()\n",
    "df_plot2 = df_plot2.reset_index()\n",
    "#df_plot2 = df_plot2.drop(df_plot2.columns[0], axis=1)\n",
    "#df_plot2.columns = [\"StartTval\", \"PatID\", \"Tries\"]\n",
    "print(df_plot2[\"StartTval\"].unique())\n",
    "df_plot2[\"StartTval\"] = df_plot2[\"StartTval\"].astype(float)\n",
    "# violin plot\n",
    "sns.set_theme(style=\"whitegrid\")\n",
    "sns.set_context(\"paper\", font_scale=1.5, rc={\"lines.linewidth\": 2.5})\n",
    "plt.figure(figsize=(12, 8))\n",
    "ax = sns.boxplot(x=\"StartTval\", y=\"Tries\", hue=\"StartTval\", palette=colours, data=df_plot2)\n",
    "\n",
    "plt.legend().remove()\n",
    "plt.xlabel(\"Start Tval\", fontsize = 20)\n",
    "#plt.xlim(0.5, 3.5)\n",
    "# ax.set_xticks(np.arange(1, 3.01, step=0.25))\n",
    "ax.set_xticklabels(ax.get_xticklabels(), rotation=45, fontsize=16)\n",
    "#plt.xticks(fontsize = 16, rotation = 45)\n",
    "plt.ylabel(\"Attempts\", fontsize = 20)\n",
    "#plt.legend(fontsize = \"16\", title = \"Start Tval\", title_fontsize = \"20\", loc = \"upper right\")\n",
    "plt.title(\"Number of attempts to cluster\", fontsize = 30)\n",
    "plt.show()"
   ]
  },
  {
   "cell_type": "code",
   "execution_count": null,
   "metadata": {},
   "outputs": [],
   "source": [
    "# load in data\n",
    "labels_dir = \"C:\\\\Users\\\\b01297ar\\\\Documents\\\\ProstateMRL-local\\\\ProstateMRL-Radiomics\\\\Data\\\\Ttest\\\\ClusterLabels\\\\\"\n",
    "\n",
    "files = os.listdir(labels_dir)\n",
    "df_all_vals = pd.DataFrame()\n",
    "for file in files:\n",
    "    t_val = float(file.split(\"_\")[2][:-4])\n",
    "\n",
    "    df_temp = pd.read_csv(labels_dir + file)\n",
    "    df_temp[\"Tval\"] = t_val\n",
    "\n",
    "    df_all_vals = df_all_vals.append(df_temp, ignore_index = True)\n",
    "\n",
    "df_all_vals = df_all_vals.drop([\"Unnamed: 0\", \"Scan\", \"Mask\", \"Days\", \"FeatureChange\"], axis=1)"
   ]
  },
  {
   "cell_type": "code",
   "execution_count": null,
   "metadata": {},
   "outputs": [],
   "source": [
    "# show random sample of data\n",
    "print(df_all_vals.sample(5))\n",
    "\n",
    "patIDs = df_all_vals[\"PatID\"].unique()\n",
    "tvals = df_all_vals[\"Tval\"].unique()\n"
   ]
  },
  {
   "cell_type": "code",
   "execution_count": null,
   "metadata": {},
   "outputs": [],
   "source": [
    "df_fts = df_all_vals.loc[df_all_vals.Fraction == 1]\n",
    "df_fts = df_fts.drop([\"Fraction\", \"FeatureValue\"], axis=1)\n",
    "df_cl = df_fts.copy()\n",
    "# get number of clusters per patient and set as new column\n",
    "df_cl[\"NumCluster\"] = df_cl.groupby([\"PatID\", \"Tval\"])[\"Cluster\"].transform(\"nunique\")\n",
    "df_cl = df_cl.drop([\"Cluster\"], axis=1)\n",
    "# get mean number of numfts column\n",
    "df_cl = df_cl.groupby([\"PatID\", \"Tval\", \"NumCluster\"]).mean()\n",
    "df_cl.rename(columns={\"NumFts\": \"MeanNumFts\"}, inplace=True)\n",
    "df_cl = df_cl.reset_index()"
   ]
  },
  {
   "cell_type": "code",
   "execution_count": null,
   "metadata": {},
   "outputs": [],
   "source": [
    "# violin plot of number of clusters per tval\n",
    "sns.set_theme(style=\"whitegrid\")\n",
    "sns.set_context(\"paper\", font_scale=1.5, rc={\"lines.linewidth\": 2.5})\n",
    "plt.figure(figsize=(12, 8))\n",
    "sns.boxplot(x=\"Tval\", y=\"NumCluster\", hue=\"Tval\", palette=colours, data=df_cl)\n",
    "plt.xlabel(\"Start Tval\", fontsize = 20)\n",
    "#plt.xticks(np.arange(1, 3.01, step=0.25))\n",
    "plt.ylabel(\"Number of clusters\", fontsize = 20)\n",
    "#plt.legend(fontsize = \"16\", title = \"Start Tval\", title_fontsize = \"20\", loc = \"upper right\")\n",
    "plt.title(\"Number of clusters per patient\", fontsize = 30)\n",
    "plt.show()"
   ]
  },
  {
   "cell_type": "code",
   "execution_count": null,
   "metadata": {},
   "outputs": [],
   "source": [
    "# violin plot of number of features per cluster per tval\n",
    "sns.set_theme(style=\"whitegrid\")\n",
    "sns.set_context(\"paper\", font_scale=1.5, rc={\"lines.linewidth\": 2.5})\n",
    "plt.figure(figsize=(12, 8))\n",
    "sns.boxplot(x=\"Tval\", y=\"MeanNumFts\", hue=\"Tval\", palette=colours, data=df_cl)\n",
    "plt.xlabel(\"Start Tval\", fontsize = 20)\n",
    "#plt.xticks(np.arange(1, 3.01, step=0.25))\n",
    "plt.ylabel(\"Number of features\", fontsize = 20)\n",
    "#plt.legend(fontsize = \"16\", title = \"Start Tval\", title_fontsize = \"20\", loc = \"upper right\")\n",
    "plt.title(\"Number of features per cluster\", fontsize = 30)\n",
    "plt.show()"
   ]
  },
  {
   "cell_type": "code",
   "execution_count": null,
   "metadata": {},
   "outputs": [],
   "source": [
    "df_cl2 = df_cl.copy()\n",
    "df_cl2[\"FtsPerCluster\"] = df_cl2[\"MeanNumFts\"] / df_cl2[\"NumCluster\"]\n",
    "# violin plot of number of features per cluster per tval\n",
    "sns.set_theme(style=\"whitegrid\")\n",
    "sns.set_context(\"paper\", font_scale=1.5, rc={\"lines.linewidth\": 2.5})\n",
    "plt.figure(figsize=(12, 8))\n",
    "sns.boxplot(x=\"Tval\", y=\"FtsPerCluster\", hue=\"Tval\", palette=colours, data=df_cl2)\n",
    "plt.xlabel(\"Start Tval\", fontsize = 20)\n",
    "#plt.xticks(np.arange(1, 3.01, step=0.25))\n",
    "plt.ylabel(\"Number of features\", fontsize = 20)\n",
    "#plt.legend(fontsize = \"16\", title = \"Start Tval\", title_fontsize = \"20\", loc = \"upper right\")\n",
    "\n",
    "plt.title(\"Number of features per cluster\", fontsize = 30)\n",
    "plt.show()"
   ]
  }
 ],
 "metadata": {
  "kernelspec": {
   "display_name": "PR-env",
   "language": "python",
   "name": "python3"
  },
  "language_info": {
   "codemirror_mode": {
    "name": "ipython",
    "version": 3
   },
   "file_extension": ".py",
   "mimetype": "text/x-python",
   "name": "python",
   "nbconvert_exporter": "python",
   "pygments_lexer": "ipython3",
   "version": "3.7.0"
  },
  "orig_nbformat": 4
 },
 "nbformat": 4,
 "nbformat_minor": 2
}

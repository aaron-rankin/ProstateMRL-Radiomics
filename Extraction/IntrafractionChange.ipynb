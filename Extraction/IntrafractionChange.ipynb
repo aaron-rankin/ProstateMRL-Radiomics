{
 "cells": [
  {
   "cell_type": "code",
   "execution_count": 47,
   "metadata": {},
   "outputs": [],
   "source": [
    "from tempfile import tempdir\n",
    "import SimpleITK as sitk\n",
    "import numpy as np\n",
    "import numpy.ma as ma\n",
    "from matplotlib import pyplot\n",
    "import matplotlib.pyplot as plt\n",
    "import seaborn as sns\n",
    "import os\n",
    "import sys\n",
    "#import seaborn as sns\n",
    "import pandas as pd\n",
    "from datetime import datetime, date"
   ]
  },
  {
   "cell_type": "code",
   "execution_count": 48,
   "metadata": {},
   "outputs": [],
   "source": [
    "patID = \"251842\"\n",
    "patID_l = \"251842\"\n",
    "\n",
    "scan_info = pd.read_csv('D:/data/Aaron/ProstateMRL/Data/MRLPacks/ScanInfo/' + patID_l + '.csv')\n",
    "scan_info = scan_info.dropna()\n",
    "\n",
    "output = 'D:/data/Aaron/ProstateMRL/Data/Extraction/MRLPacks/RawPlotsWM/' \n",
    "\n"
   ]
  },
  {
   "cell_type": "code",
   "execution_count": 49,
   "metadata": {},
   "outputs": [
    {
     "name": "stdout",
     "output_type": "stream",
     "text": [
      "141838.00400000002\n",
      "14 18 38\n",
      "143442.392\n",
      "14 34 42\n",
      "144242.809\n",
      "14 42 42\n",
      "142339.046\n",
      "14 23 39\n",
      "143848.551\n",
      "14 38 48\n",
      "144521.72199999998\n",
      "14 45 21\n",
      "140848.77\n",
      "14 08 48\n",
      "142302.063\n",
      "14 23 02\n",
      "143025.797\n",
      "14 30 25\n",
      "140058.94\n",
      "14 00 58\n",
      "141615.721\n",
      "14 16 15\n",
      "142310.283\n",
      "14 23 10\n",
      "143228.478\n",
      "14 32 28\n",
      "144800.18300000002\n",
      "14 48 00\n",
      "145546.72\n",
      "14 55 46\n"
     ]
    }
   ],
   "source": [
    "new_dt = {\"ScanDate\":[], \"ScanTime\":[]}#, \"DaysFromFrac1\":[], \"MinsFromScan1\":[]}\n",
    "temp = pd.DataFrame()\n",
    "\n",
    "for index, row in scan_info.iterrows():\n",
    "    date = str(row[\"ScanDate\"])\n",
    "    year, month, day = date[0:4], date[4:6], date[6:]\n",
    "    #print(year, month, day)\n",
    "    new_date = pd.to_datetime(str(year + \"-\" + month + \"-\" + day))\n",
    "    new_dt[\"ScanDate\"] = new_date\n",
    "    \n",
    "    \n",
    "    time = str(row[\"ScanTime\"])\n",
    "    hour, min, sec = time[0:2], time[2:4], time[4:6]\n",
    "    new_time = pd.to_datetime(str(hour + \":\" + min + \":\" + sec))\n",
    "    new_dt[\"ScanTime\"] = new_time\n",
    "\n",
    "    temp = temp.append(new_dt, ignore_index=True)\n",
    "\n",
    "temp[\"ScanTime\"] = temp[\"ScanTime\"].dt.time"
   ]
  },
  {
   "cell_type": "code",
   "execution_count": 50,
   "metadata": {},
   "outputs": [],
   "source": [
    "scan_info = scan_info.drop([\"ScanTime\", \"ScanDate\"], axis=1)\n",
    "scan_info = pd.concat([scan_info,temp],axis=1)"
   ]
  },
  {
   "cell_type": "code",
   "execution_count": 51,
   "metadata": {},
   "outputs": [],
   "source": [
    "diff = {}\n",
    "contours = scan_info.MRContour.unique()\n",
    "results = pd.DataFrame()\n",
    "\n",
    "for i in contours:\n",
    "    temp = scan_info.loc[scan_info[\"MRContour\"].isin([i])]\n",
    "\n",
    "    for index, row in temp.iterrows():\n",
    "        diff[\"PatID\"] = row[\"patID\"]\n",
    "        diff[\"MRContour\"] = i\n",
    "        diff[\"Fraction\"] = int(row[\"Fraction\"])\n",
    "        diff[\"Scan\"] = int(row[\"Scan\"])\n",
    "\n",
    "        if row[\"Scan\"] == 1:\n",
    "            #print(\"hello\")\n",
    "            Day1, Time1 = row[\"ScanDate\"], row[\"ScanTime\"]\n",
    "            hour1, mins1 = Time1.hour, Time1.minute\n",
    "            pros1, shpros1, glute1, psoas1 = row[\"MeanProstate\"], row[\"MeanShrunkProstate\"], row[\"MeanGlute\"], row[\"MeanPsoas\"]\n",
    "            diff[\"TimeChange\"] = 0\n",
    "            diff[\"Prostate\"], diff[\"ShrunkProstate\"], diff[\"Glute\"], diff[\"Psoas\"] = row[\"MeanProstate\"], row[\"MeanShrunkProstate\"], row[\"MeanGlute\"], row[\"MeanPsoas\"]\n",
    "            diff[\"d-Prostate\"], diff[\"d-ShrunkProstate\"], diff[\"d-Glute\"], diff[\"d-Psoas\"] = 0,0,0,0\n",
    "\n",
    "        else:\n",
    "            Time2 = row[\"ScanTime\"]\n",
    "            hour2, mins2 = Time2.hour, Time2.minute\n",
    "            hour_d = hour2-hour1\n",
    "            min_d = mins2 - mins1\n",
    "            if min_d < 0:\n",
    "                total_mins = 60 + min_d\n",
    "            else:\n",
    "                total_mins = hour_d * 60 + min_d\n",
    "\n",
    "            diff[\"TimeChange\"] = total_mins\n",
    "            diff[\"Prostate\"], diff[\"ShrunkProstate\"], diff[\"Glute\"], diff[\"Psoas\"] = row[\"MeanProstate\"], row[\"MeanShrunkProstate\"], row[\"MeanGlute\"], row[\"MeanPsoas\"]\n",
    "            diff[\"d-Prostate\"] = row[\"MeanProstate\"] - pros1\n",
    "            diff[\"d-ShrunkProstate\"] = row[\"MeanShrunkProstate\"] - shpros1\n",
    "            diff[\"d-Glute\"] = row[\"MeanGlute\"] - glute1\n",
    "            diff[\"d-Psoas\"] = row[\"MeanPsoas\"] - psoas1\n",
    "\n",
    "        results = results.append(diff, ignore_index=True)\n",
    "\n",
    "results = results[[\"PatID\", \"Fraction\", \"MRContour\", \"Scan\", \"TimeChange\", \"Prostate\", \"d-Prostate\",\"ShrunkProstate\",\"d-ShrunkProstate\",\"Glute\", \"d-Glute\", \"Psoas\", \"d-Psoas\"]]\n",
    "results = results.astype({\"Fraction\": int, \"Scan\": int})\n",
    "results.to_csv(\"D:\\data\\Aaron\\ProstateMRL\\Data\\MRLPacks\\MeanValues\\\\\" + patID + \".csv\")"
   ]
  },
  {
   "cell_type": "code",
   "execution_count": 52,
   "metadata": {},
   "outputs": [
    {
     "data": {
      "text/plain": [
       "<Figure size 720x504 with 0 Axes>"
      ]
     },
     "metadata": {},
     "output_type": "display_data"
    },
    {
     "data": {
      "text/plain": [
       "<Figure size 720x504 with 0 Axes>"
      ]
     },
     "metadata": {},
     "output_type": "display_data"
    },
    {
     "data": {
      "text/plain": [
       "<Figure size 720x504 with 0 Axes>"
      ]
     },
     "metadata": {},
     "output_type": "display_data"
    },
    {
     "data": {
      "text/plain": [
       "<Figure size 720x504 with 0 Axes>"
      ]
     },
     "metadata": {},
     "output_type": "display_data"
    },
    {
     "data": {
      "text/plain": [
       "<Figure size 720x504 with 0 Axes>"
      ]
     },
     "metadata": {},
     "output_type": "display_data"
    },
    {
     "data": {
      "text/plain": [
       "<Figure size 720x504 with 0 Axes>"
      ]
     },
     "metadata": {},
     "output_type": "display_data"
    },
    {
     "data": {
      "text/plain": [
       "<Figure size 720x504 with 0 Axes>"
      ]
     },
     "metadata": {},
     "output_type": "display_data"
    },
    {
     "data": {
      "text/plain": [
       "<Figure size 720x504 with 0 Axes>"
      ]
     },
     "metadata": {},
     "output_type": "display_data"
    },
    {
     "data": {
      "image/png": "[encoded data removed]",
      "text/plain": [
       "<Figure size 720x504 with 1 Axes>"
      ]
     },
     "metadata": {},
     "output_type": "display_data"
    }
   ],
   "source": [
    "fractions = results.Fraction.unique()\n",
    "rgb_vals = sns.color_palette(\"colorblind\", len(fractions))\n",
    "colourmap = dict(zip(fractions, rgb_vals))\n",
    "\n",
    "fig = plt.figure(figsize=(10,7))\n",
    "sns.set_theme(style='darkgrid')\n",
    "plt.xlabel(\"Time Change from Scan 1 (mins)\")   \n",
    "plt.ylabel(\"Mean Signal Change\")\n",
    "plt.ylim(-300,300)\n",
    "\n",
    "region = [\"Prostate\", \"ShrunkProstate\", \"Glute\", \"Psoas\", \"d-Prostate\", \"d-ShrunkProstate\", \"d-Glute\", \"d-Psoas\"]\n",
    "\n",
    "for i in range(8):\n",
    "    plt.clf()\n",
    "    fig = plt.figure(figsize=(10,7))\n",
    "    sns.set_theme(style='darkgrid')\n",
    "    plt.xlabel(\"Time Change from Scan 1 (mins)\")   \n",
    "    plt.ylabel(\"Mean Signal\")\n",
    "    if i < 2:\n",
    "        plt.ylim(0,300)\n",
    "    elif 1 < i < 4: \n",
    "        plt.ylim(0,150)\n",
    "    elif 3 < i < 6:\n",
    "        plt.ylim(-300,300)\n",
    "    elif 5 < i:\n",
    "        plt.ylim(-150,150)\n",
    "    plt.title(\"Mean MR Signal (Raw) - Patient:\" + patID + \" - \" + region[i], fontsize=20)\n",
    "    plot = sns.scatterplot(data=results, x='TimeChange', y=region[i], hue='Fraction',palette=colourmap)\n",
    "    #plot_l = sns.lineplot(data=results, x='TimeChange', y=region[i], hue='Fraction',palette=colourmap)\n",
    "    box = plot.get_position()\n",
    "    plot.set_position([box.x0, box.y0, box.width * 0.85, box.height]) # resize position\n",
    "\n",
    "    # Put a legend to the right side\n",
    "    plot.legend(loc='center right', bbox_to_anchor=(1.25, 0.5), ncol=1, title=\"Fraction\")\n",
    "    plt.savefig(\"D:\\data\\Aaron\\ProstateMRL\\Data\\MRLPacks\\RawPlotsWM\\\\\" + patID + \"_\" + region[i] + \".png\", dpi=300)\n",
    "    "
   ]
  }
 ],
 "metadata": {
  "interpreter": {
   "hash": "fd78d60c78312e2835784dd761e640488478adfd13dfcaae9b4668852672f22d"
  },
  "kernelspec": {
   "display_name": "Python 3.6.5 64-bit ('py-envs': virtualenv)",
   "name": "python3"
  },
  "language_info": {
   "codemirror_mode": {
    "name": "ipython",
    "version": 3
   },
   "file_extension": ".py",
   "mimetype": "text/x-python",
   "name": "python",
   "nbconvert_exporter": "python",
   "pygments_lexer": "ipython3",
   "version": "3.6.5"
  },
  "orig_nbformat": 4
 },
 "nbformat": 4,
 "nbformat_minor": 2
}

{
 "cells": [
  {
   "cell_type": "code",
   "execution_count": 1,
   "metadata": {},
   "outputs": [
    {
     "ename": "FileNotFoundError",
     "evalue": "[Errno 2] No such file or directory: 'D:/data/Aaron/ProstateMRL/Code/Extraction/PatientKey.csv'",
     "output_type": "error",
     "traceback": [
      "\u001b[1;31m---------------------------------------------------------------------------\u001b[0m",
      "\u001b[1;31mFileNotFoundError\u001b[0m                         Traceback (most recent call last)",
      "\u001b[1;32m~\\AppData\\Local\\Temp\\ipykernel_1160\\2519271428.py\u001b[0m in \u001b[0;36m<module>\u001b[1;34m\u001b[0m\n\u001b[0;32m      2\u001b[0m \u001b[1;32mimport\u001b[0m \u001b[0mnumpy\u001b[0m \u001b[1;32mas\u001b[0m \u001b[0mnp\u001b[0m\u001b[1;33m\u001b[0m\u001b[0m\n\u001b[0;32m      3\u001b[0m \u001b[1;33m\u001b[0m\u001b[0m\n\u001b[1;32m----> 4\u001b[1;33m \u001b[0mdf\u001b[0m \u001b[1;33m=\u001b[0m \u001b[0mpd\u001b[0m\u001b[1;33m.\u001b[0m\u001b[0mread_csv\u001b[0m\u001b[1;33m(\u001b[0m\u001b[1;34m\"D:/data/Aaron/ProstateMRL/Code/Extraction/PatientKey.csv\"\u001b[0m\u001b[1;33m)\u001b[0m\u001b[1;33m\u001b[0m\u001b[0m\n\u001b[0m\u001b[0;32m      5\u001b[0m \u001b[1;33m\u001b[0m\u001b[0m\n\u001b[0;32m      6\u001b[0m \u001b[0mdf\u001b[0m \u001b[1;33m=\u001b[0m \u001b[0mdf\u001b[0m\u001b[1;33m[\u001b[0m\u001b[0mdf\u001b[0m\u001b[1;33m[\u001b[0m\u001b[1;34m\"Treatment\"\u001b[0m\u001b[1;33m]\u001b[0m \u001b[1;33m==\u001b[0m \u001b[1;34m\"20fractions\"\u001b[0m\u001b[1;33m]\u001b[0m\u001b[1;33m\u001b[0m\u001b[0m\n",
      "\u001b[1;32mc:\\Users\\b01297ar\\Documents\\ProstateMRL-local\\py-envs\\PR-env\\lib\\site-packages\\pandas\\io\\parsers.py\u001b[0m in \u001b[0;36mread_csv\u001b[1;34m(filepath_or_buffer, sep, delimiter, header, names, index_col, usecols, squeeze, prefix, mangle_dupe_cols, dtype, engine, converters, true_values, false_values, skipinitialspace, skiprows, skipfooter, nrows, na_values, keep_default_na, na_filter, verbose, skip_blank_lines, parse_dates, infer_datetime_format, keep_date_col, date_parser, dayfirst, cache_dates, iterator, chunksize, compression, thousands, decimal, lineterminator, quotechar, quoting, doublequote, escapechar, comment, encoding, dialect, error_bad_lines, warn_bad_lines, delim_whitespace, low_memory, memory_map, float_precision)\u001b[0m\n\u001b[0;32m    686\u001b[0m     )\n\u001b[0;32m    687\u001b[0m \u001b[1;33m\u001b[0m\u001b[0m\n\u001b[1;32m--> 688\u001b[1;33m     \u001b[1;32mreturn\u001b[0m \u001b[0m_read\u001b[0m\u001b[1;33m(\u001b[0m\u001b[0mfilepath_or_buffer\u001b[0m\u001b[1;33m,\u001b[0m \u001b[0mkwds\u001b[0m\u001b[1;33m)\u001b[0m\u001b[1;33m\u001b[0m\u001b[0m\n\u001b[0m\u001b[0;32m    689\u001b[0m \u001b[1;33m\u001b[0m\u001b[0m\n\u001b[0;32m    690\u001b[0m \u001b[1;33m\u001b[0m\u001b[0m\n",
      "\u001b[1;32mc:\\Users\\b01297ar\\Documents\\ProstateMRL-local\\py-envs\\PR-env\\lib\\site-packages\\pandas\\io\\parsers.py\u001b[0m in \u001b[0;36m_read\u001b[1;34m(filepath_or_buffer, kwds)\u001b[0m\n\u001b[0;32m    452\u001b[0m \u001b[1;33m\u001b[0m\u001b[0m\n\u001b[0;32m    453\u001b[0m     \u001b[1;31m# Create the parser.\u001b[0m\u001b[1;33m\u001b[0m\u001b[1;33m\u001b[0m\u001b[0m\n\u001b[1;32m--> 454\u001b[1;33m     \u001b[0mparser\u001b[0m \u001b[1;33m=\u001b[0m \u001b[0mTextFileReader\u001b[0m\u001b[1;33m(\u001b[0m\u001b[0mfp_or_buf\u001b[0m\u001b[1;33m,\u001b[0m \u001b[1;33m**\u001b[0m\u001b[0mkwds\u001b[0m\u001b[1;33m)\u001b[0m\u001b[1;33m\u001b[0m\u001b[0m\n\u001b[0m\u001b[0;32m    455\u001b[0m \u001b[1;33m\u001b[0m\u001b[0m\n\u001b[0;32m    456\u001b[0m     \u001b[1;32mif\u001b[0m \u001b[0mchunksize\u001b[0m \u001b[1;32mor\u001b[0m \u001b[0miterator\u001b[0m\u001b[1;33m:\u001b[0m\u001b[1;33m\u001b[0m\u001b[0m\n",
      "\u001b[1;32mc:\\Users\\b01297ar\\Documents\\ProstateMRL-local\\py-envs\\PR-env\\lib\\site-packages\\pandas\\io\\parsers.py\u001b[0m in \u001b[0;36m__init__\u001b[1;34m(self, f, engine, **kwds)\u001b[0m\n\u001b[0;32m    946\u001b[0m             \u001b[0mself\u001b[0m\u001b[1;33m.\u001b[0m\u001b[0moptions\u001b[0m\u001b[1;33m[\u001b[0m\u001b[1;34m\"has_index_names\"\u001b[0m\u001b[1;33m]\u001b[0m \u001b[1;33m=\u001b[0m \u001b[0mkwds\u001b[0m\u001b[1;33m[\u001b[0m\u001b[1;34m\"has_index_names\"\u001b[0m\u001b[1;33m]\u001b[0m\u001b[1;33m\u001b[0m\u001b[0m\n\u001b[0;32m    947\u001b[0m \u001b[1;33m\u001b[0m\u001b[0m\n\u001b[1;32m--> 948\u001b[1;33m         \u001b[0mself\u001b[0m\u001b[1;33m.\u001b[0m\u001b[0m_make_engine\u001b[0m\u001b[1;33m(\u001b[0m\u001b[0mself\u001b[0m\u001b[1;33m.\u001b[0m\u001b[0mengine\u001b[0m\u001b[1;33m)\u001b[0m\u001b[1;33m\u001b[0m\u001b[0m\n\u001b[0m\u001b[0;32m    949\u001b[0m \u001b[1;33m\u001b[0m\u001b[0m\n\u001b[0;32m    950\u001b[0m     \u001b[1;32mdef\u001b[0m \u001b[0mclose\u001b[0m\u001b[1;33m(\u001b[0m\u001b[0mself\u001b[0m\u001b[1;33m)\u001b[0m\u001b[1;33m:\u001b[0m\u001b[1;33m\u001b[0m\u001b[0m\n",
      "\u001b[1;32mc:\\Users\\b01297ar\\Documents\\ProstateMRL-local\\py-envs\\PR-env\\lib\\site-packages\\pandas\\io\\parsers.py\u001b[0m in \u001b[0;36m_make_engine\u001b[1;34m(self, engine)\u001b[0m\n\u001b[0;32m   1178\u001b[0m     \u001b[1;32mdef\u001b[0m \u001b[0m_make_engine\u001b[0m\u001b[1;33m(\u001b[0m\u001b[0mself\u001b[0m\u001b[1;33m,\u001b[0m \u001b[0mengine\u001b[0m\u001b[1;33m=\u001b[0m\u001b[1;34m\"c\"\u001b[0m\u001b[1;33m)\u001b[0m\u001b[1;33m:\u001b[0m\u001b[1;33m\u001b[0m\u001b[0m\n\u001b[0;32m   1179\u001b[0m         \u001b[1;32mif\u001b[0m \u001b[0mengine\u001b[0m \u001b[1;33m==\u001b[0m \u001b[1;34m\"c\"\u001b[0m\u001b[1;33m:\u001b[0m\u001b[1;33m\u001b[0m\u001b[0m\n\u001b[1;32m-> 1180\u001b[1;33m             \u001b[0mself\u001b[0m\u001b[1;33m.\u001b[0m\u001b[0m_engine\u001b[0m \u001b[1;33m=\u001b[0m \u001b[0mCParserWrapper\u001b[0m\u001b[1;33m(\u001b[0m\u001b[0mself\u001b[0m\u001b[1;33m.\u001b[0m\u001b[0mf\u001b[0m\u001b[1;33m,\u001b[0m \u001b[1;33m**\u001b[0m\u001b[0mself\u001b[0m\u001b[1;33m.\u001b[0m\u001b[0moptions\u001b[0m\u001b[1;33m)\u001b[0m\u001b[1;33m\u001b[0m\u001b[0m\n\u001b[0m\u001b[0;32m   1181\u001b[0m         \u001b[1;32melse\u001b[0m\u001b[1;33m:\u001b[0m\u001b[1;33m\u001b[0m\u001b[0m\n\u001b[0;32m   1182\u001b[0m             \u001b[1;32mif\u001b[0m \u001b[0mengine\u001b[0m \u001b[1;33m==\u001b[0m \u001b[1;34m\"python\"\u001b[0m\u001b[1;33m:\u001b[0m\u001b[1;33m\u001b[0m\u001b[0m\n",
      "\u001b[1;32mc:\\Users\\b01297ar\\Documents\\ProstateMRL-local\\py-envs\\PR-env\\lib\\site-packages\\pandas\\io\\parsers.py\u001b[0m in \u001b[0;36m__init__\u001b[1;34m(self, src, **kwds)\u001b[0m\n\u001b[0;32m   2008\u001b[0m         \u001b[0mkwds\u001b[0m\u001b[1;33m[\u001b[0m\u001b[1;34m\"usecols\"\u001b[0m\u001b[1;33m]\u001b[0m \u001b[1;33m=\u001b[0m \u001b[0mself\u001b[0m\u001b[1;33m.\u001b[0m\u001b[0musecols\u001b[0m\u001b[1;33m\u001b[0m\u001b[0m\n\u001b[0;32m   2009\u001b[0m \u001b[1;33m\u001b[0m\u001b[0m\n\u001b[1;32m-> 2010\u001b[1;33m         \u001b[0mself\u001b[0m\u001b[1;33m.\u001b[0m\u001b[0m_reader\u001b[0m \u001b[1;33m=\u001b[0m \u001b[0mparsers\u001b[0m\u001b[1;33m.\u001b[0m\u001b[0mTextReader\u001b[0m\u001b[1;33m(\u001b[0m\u001b[0msrc\u001b[0m\u001b[1;33m,\u001b[0m \u001b[1;33m**\u001b[0m\u001b[0mkwds\u001b[0m\u001b[1;33m)\u001b[0m\u001b[1;33m\u001b[0m\u001b[0m\n\u001b[0m\u001b[0;32m   2011\u001b[0m         \u001b[0mself\u001b[0m\u001b[1;33m.\u001b[0m\u001b[0munnamed_cols\u001b[0m \u001b[1;33m=\u001b[0m \u001b[0mself\u001b[0m\u001b[1;33m.\u001b[0m\u001b[0m_reader\u001b[0m\u001b[1;33m.\u001b[0m\u001b[0munnamed_cols\u001b[0m\u001b[1;33m\u001b[0m\u001b[0m\n\u001b[0;32m   2012\u001b[0m \u001b[1;33m\u001b[0m\u001b[0m\n",
      "\u001b[1;32mpandas\\_libs\\parsers.pyx\u001b[0m in \u001b[0;36mpandas._libs.parsers.TextReader.__cinit__\u001b[1;34m()\u001b[0m\n",
      "\u001b[1;32mpandas\\_libs\\parsers.pyx\u001b[0m in \u001b[0;36mpandas._libs.parsers.TextReader._setup_parser_source\u001b[1;34m()\u001b[0m\n",
      "\u001b[1;31mFileNotFoundError\u001b[0m: [Errno 2] No such file or directory: 'D:/data/Aaron/ProstateMRL/Code/Extraction/PatientKey.csv'"
     ]
    }
   ],
   "source": [
    "import pandas as pd\n",
    "import numpy as np\n",
    "\n",
    "df = pd.read_csv(\"D:/data/Aaron/ProstateMRL/Code/Extraction/PatientKey.csv\")\n",
    "\n",
    "df = df[df[\"Treatment\"] == \"20fractions\"]\n",
    "list = df[\"PatID\"].unique().astype(str)\n",
    "array = np.asarray(list)\n",
    "print(array)"
   ]
  },
  {
   "cell_type": "code",
   "execution_count": 2,
   "metadata": {},
   "outputs": [],
   "source": [
    "import pandas as pd\n",
    "import numpy as np\n",
    "import datetime\n",
    "\n",
    "import sys\n",
    "import os\n",
    "\n",
    "current = os.path.dirname(os.path.realpath(\"Test.ipynb\"))\n",
    "parent = os.path.dirname(current)\n",
    "sys.path.append(parent + \"\\\\Functions\\\\\")\n",
    "import UsefulFunctions as UF\n",
    "import ImageFunctions as IF"
   ]
  },
  {
   "cell_type": "code",
   "execution_count": null,
   "metadata": {},
   "outputs": [],
   "source": [
    "# read in patient key\n",
    "root = UF.DataRoot(2)\n",
    "LimbusKey = pd.read_csv(root + \"\\\\Aaron\\\\ProstateMRL\\\\Code\\\\Extraction\\\\PatKeys\\\\LimbusKey.csv\")\n",
    "AllKey = pd.read_csv(root + \"\\\\Aaron\\\\ProstateMRL\\\\Code\\\\Extraction\\\\PatKeys\\\\AllPatientKey_s.csv\")\n",
    "\n",
    "# Loop through treatments\n",
    "treatments = AllKey[\"Treatment\"].unique()\n",
    "new_key = pd.DataFrame()\n",
    "for t in treatments:\n",
    "    AllKey_t = AllKey[AllKey[\"Treatment\"] == t]\n",
    "    LimbusKey_t = LimbusKey[LimbusKey[\"Treatment\"] == t]\n",
    "\n",
    "    # Loop through patients\n",
    "    patIDs = LimbusKey_t[\"PatID\"].unique()\n",
    "\n",
    "    for pat in patIDs:\n",
    "        pat_L = LimbusKey_t[LimbusKey_t[\"PatID\"] == pat]\n",
    "        pat_A = AllKey_t[AllKey_t[\"PatID\"] == pat]\n",
    "        print(pat_A)\n",
    "        print(pat_L)\n",
    "        # add date and days column from all to limbus key based on Scan\n",
    "        for i in range(len(pat_L)):\n",
    "            scan = pat_L.iloc[i][\"Scan\"]\n",
    "            fraction = pat_A.iloc[i][\"Fraction\"]\n",
    "            date = pat_A[pat_A[\"Scan\"] == scan][\"Date\"].values[0]\n",
    "            days = pat_A[pat_A[\"Scan\"] == scan][\"Days\"].values[0]\n",
    "            pat_L.at[pat_L.index[i], \"Date\"] = str(date)\n",
    "            pat_L.at[pat_L.index[i], \"Days\"] = int(days)\n",
    "            pat_L.at[pat_L.index[i], \"Fraction\"] = int(fraction)\n",
    "\n",
    "        pat_L[\"Days\"] = pat_L[\"Days\"].astype(int)\n",
    "        # sort by days\n",
    "        pat_L = pat_L.sort_values(by=[\"Fraction\"])\n",
    "\n",
    "    # add to new key\n",
    "        new_key = new_key.append(pat_L)\n",
    "\n",
    "new_key.to_csv(root + \"\\\\Aaron\\\\ProstateMRL\\\\Code\\\\Extraction\\\\PatKeys\\\\LimbusKey_s.csv\", index=False)\n",
    "\n",
    "\n",
    "        \n",
    "        \n",
    "\n"
   ]
  },
  {
   "cell_type": "code",
   "execution_count": 20,
   "metadata": {},
   "outputs": [],
   "source": [
    "import pandas as pd\n",
    "import numpy as np\n",
    "import os\n",
    "\n",
    "import sys\n",
    "\n",
    "current = os.path.dirname(os.path.realpath(''))\n",
    "parent = os.path.dirname(current)\n",
    "sys.path.append(parent + \"\\\\Functions\\\\\")\n",
    "import UsefulFunctions as UF\n",
    "#import ImageFunctions as IF\n",
    "\n",
    "root = UF.DataRoot(2)\n",
    "\n",
    "# read in patient key\n",
    "PatKey = pd.read_csv(root + \"\\\\Aaron\\\\ProstateMRL\\\\Code\\\\Extraction\\\\PatKeys\\\\AllPatientKey_s.csv\")\n",
    "PatKey = PatKey[PatKey[\"Treatment\"] == \"SABR\"]\n",
    "\n",
    "# read in ft vals\n",
    "df_all = pd.read_csv(root + \"\\\\Aaron\\\\ProstateMRL\\\\Data\\\\Paper1\\\\Limbus\\\\SABR_fts_all.csv\")\n",
    "\n",
    "\n",
    "df_all = df_all.drop(columns = [col for col in df_all.columns if \"diagnostics\" in col])\n",
    "df_all = df_all.drop(columns = [col for col in df_all.columns if \"Unnamed\" in col])\n",
    "\n",
    "fts = df_all.columns[2:]\n",
    "\n",
    "fractions = PatKey[\"Fraction\"].unique()\n",
    "patIDs = PatKey[\"PatID\"].unique()\n",
    "\n",
    "# merge with patient key to get date and days and fraction\n",
    "df_all_m = pd.merge(df_all, PatKey[[\"PatID\", \"Scan\", \"Days\", \"Fraction\"]],on = [\"PatID\", \"Scan\"], how = \"left\")\n",
    "\n",
    "frac = df_all_m.pop(\"Fraction\")\n",
    "df_all_m.insert(2, \"Fraction\", frac)\n",
    "\n",
    "days = df_all_m.pop(\"Days\")\n",
    "df_all_m.insert(3, \"Days\", days)\n",
    "\n",
    "\n",
    "df_all_m[\"Days\"] = df_all_m[\"Days\"].astype(int)\n",
    "df_all_m[\"Fraction\"] = df_all_m[\"Fraction\"].astype(int)\n",
    "\n",
    "df_all_m = df_all_m.sort_values(by = [\"PatID\", \"Fraction\", \"Days\"])\n",
    "df_all_m.to_csv(root + \"\\\\Aaron\\\\ProstateMRL\\\\Data\\\\Paper1\\\\Limbus\\\\SABR_fts_all_m.csv\", index = False)\n",
    "\n",
    "\n"
   ]
  }
 ],
 "metadata": {
  "kernelspec": {
   "display_name": "PR-env",
   "language": "python",
   "name": "python3"
  },
  "language_info": {
   "codemirror_mode": {
    "name": "ipython",
    "version": 3
   },
   "file_extension": ".py",
   "mimetype": "text/x-python",
   "name": "python",
   "nbconvert_exporter": "python",
   "pygments_lexer": "ipython3",
   "version": "3.7.0 (v3.7.0:1bf9cc5093, Jun 27 2018, 04:59:51) [MSC v.1914 64 bit (AMD64)]"
  },
  "orig_nbformat": 4,
  "vscode": {
   "interpreter": {
    "hash": "f7360ff227b89f60dd61b1b8bc2ef1c638b87e6764dd45fc98e42ea5accfcbf3"
   }
  }
 },
 "nbformat": 4,
 "nbformat_minor": 2
}

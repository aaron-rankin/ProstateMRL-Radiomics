{
 "cells": [
  {
   "cell_type": "code",
   "execution_count": 21,
   "metadata": {},
   "outputs": [
    {
     "name": "stdout",
     "output_type": "stream",
     "text": [
      "['213' '231' '257' '292' '626' '695' '1464' '106958' '251842' '312108'\n",
      " '1119' '1384' '1482' '294' '325' '356' '393' '397' '894' '900']\n"
     ]
    }
   ],
   "source": [
    "import pandas as pd\n",
    "import numpy as np\n",
    "\n",
    "df = pd.read_csv(\"D:/data/Aaron/ProstateMRL/Code/Extraction/PatientKey.csv\")\n",
    "\n",
    "df = df[df[\"Treatment\"] == \"20fractions\"]\n",
    "list = df[\"PatID\"].unique().astype(str)\n",
    "array = np.asarray(list)\n",
    "print(array)"
   ]
  }
 ],
 "metadata": {
  "interpreter": {
   "hash": "fd78d60c78312e2835784dd761e640488478adfd13dfcaae9b4668852672f22d"
  },
  "kernelspec": {
   "display_name": "Python 3.6.5 64-bit ('py-envs': virtualenv)",
   "name": "python3"
  },
  "language_info": {
   "codemirror_mode": {
    "name": "ipython",
    "version": 3
   },
   "file_extension": ".py",
   "mimetype": "text/x-python",
   "name": "python",
   "nbconvert_exporter": "python",
   "pygments_lexer": "ipython3",
   "version": "3.6.5"
  },
  "orig_nbformat": 4
 },
 "nbformat": 4,
 "nbformat_minor": 2
}

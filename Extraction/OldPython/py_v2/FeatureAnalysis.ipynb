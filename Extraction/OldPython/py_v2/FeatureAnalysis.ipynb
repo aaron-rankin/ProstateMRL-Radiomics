{
 "cells": [
  {
   "cell_type": "code",
   "execution_count": 4,
   "metadata": {},
   "outputs": [
    {
     "name": "stdout",
     "output_type": "stream",
     "text": [
      "v3.0.1\n"
     ]
    }
   ],
   "source": [
    "from pydoc import pathdirs\n",
    "import SimpleITK as sitk\n",
    "from matplotlib.pyplot import contour\n",
    "import numpy as np\n",
    "import pandas as pd\n",
    "import os\n",
    "import UsefulFunctions as UF\n",
    "from datetime import datetime\n",
    "import radiomics\n",
    "print(radiomics.__version__)\n",
    "from radiomics import featureextractor"
   ]
  },
  {
   "cell_type": "code",
   "execution_count": 5,
   "metadata": {},
   "outputs": [],
   "source": [
    "root = UF.DataRoot()\n"
   ]
  },
  {
   "cell_type": "code",
   "execution_count": 6,
   "metadata": {},
   "outputs": [],
   "source": [
    "key_df = pd.read_csv(root + \"Aaron\\\\ProstateMRL\\\\Data\\\\PatientKey_sorted.csv\")\n",
    "treatments = key_df.Treatment.unique()"
   ]
  },
  {
   "cell_type": "code",
   "execution_count": 7,
   "metadata": {},
   "outputs": [],
   "source": [
    "Norms = [\"Raw\", \"HM-FS\", \"HM-TP\", \"Norm-Pros\", \"Med-Pros\", \"Norm-Glute\", \"Med-Glute\", \"Norm-Psoas\", \"Med-Psoas\"]\n"
   ]
  },
  {
   "cell_type": "code",
   "execution_count": null,
   "metadata": {},
   "outputs": [],
   "source": [
    "feature_url = root + \"Aaron\\\\ProstateMRL\\\\Data\\\\MRLPacks\\\\FeatureExtraction\\\\\"\n",
    "features_dir = os.listdir(feature_url)\n",
    "print(features_dir)\n",
    "for n in Norms:\n",
    "    print(n)\n",
    "    all_df = pd.DataFrame()\n",
    "    for i in features_dir:\n",
    "        scans_dir = os.listdir((feature_url + str(i)))\n",
    "        #print(scans_dir)\n",
    "        print(\"Processing: \" + str(i))\n",
    "\n",
    "        for j in scans_dir:\n",
    "            ft_csvs = os.listdir((feature_url + str(i) + \"\\\\\" +str(j)))\n",
    "\n",
    "            for k in ft_csvs:\n",
    "                \n",
    "                csv_name = os.path.join(feature_url, str(i), str(j), k)\n",
    "                if n in k:\n",
    "                    pat_df = pd.read_csv(csv_name)\n",
    "                    all_df = all_df.append(pat_df)\n",
    "\n",
    "    all_df.to_csv(root + \"Aaron\\\\ProstateMRL\\\\Data\\\\MRLPacks\\\\Combined_csvs\\\\Features_\" + n + \"_v2.csv\")\n"
   ]
  },
  {
   "cell_type": "code",
   "execution_count": null,
   "metadata": {},
   "outputs": [],
   "source": [
    "# Inter-fraction signal changes\n",
    "sig_url = root + \"Aaron\\\\ProstateMRL\\\\MRLPacks\\\\Data\\\\InterFractionChanges_v2\\\\\"\n",
    "sig_changes = os.listdir(sig_url)\n",
    "\n",
    "sig_all_df = pd.DataFrame()\n",
    "\n",
    "for i in sig_changes:\n",
    "    pat_df = pd.read_csv((sig_url + i))\n",
    "    sig_all_df = sig_all_df.append(pat_df)\n",
    "\n",
    "sig_all_df.to_csv(root + \"Aaron\\\\ProstateMRL\\\\MRLPacks\\\\Data\\\\Combined_csvs\\\\Signal_changes.csv\")"
   ]
  }
 ],
 "metadata": {
  "kernelspec": {
   "display_name": "Python 3.7.0 ('PR-env')",
   "language": "python",
   "name": "python3"
  },
  "language_info": {
   "codemirror_mode": {
    "name": "ipython",
    "version": 3
   },
   "file_extension": ".py",
   "mimetype": "text/x-python",
   "name": "python",
   "nbconvert_exporter": "python",
   "pygments_lexer": "ipython3",
   "version": "3.7.0"
  },
  "orig_nbformat": 4,
  "vscode": {
   "interpreter": {
    "hash": "f7360ff227b89f60dd61b1b8bc2ef1c638b87e6764dd45fc98e42ea5accfcbf3"
   }
  }
 },
 "nbformat": 4,
 "nbformat_minor": 2
}

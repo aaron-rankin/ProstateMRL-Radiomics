{
 "cells": [
  {
   "cell_type": "code",
   "execution_count": 1,
   "metadata": {},
   "outputs": [],
   "source": [
    "import numpy as np\n",
    "import pandas as pd\n",
    "import os"
   ]
  },
  {
   "cell_type": "code",
   "execution_count": 3,
   "metadata": {},
   "outputs": [],
   "source": [
    "db_pack = pd.read_csv('D:\\data\\Aaron\\ProstateMRL\\Data\\MRLPacks\\ScanInfo\\Allpacks.csv')\n",
    "db_20f = pd.read_csv('D:\\data\\Aaron\\ProstateMRL\\Data\\Extraction\\patientDatainfo\\scaninfo_20fractions.csv')\n",
    "db_SABR = pd.read_csv('D:\\data\\Aaron\\ProstateMRL\\Data\\Extraction\\patientDatainfo\\scaninfo_SABR.csv')"
   ]
  },
  {
   "cell_type": "code",
   "execution_count": 5,
   "metadata": {},
   "outputs": [
    {
     "name": "stdout",
     "output_type": "stream",
     "text": [
      "[1088 1089 1118 1303 1307  653  713  714  752  826  213  232  257  292]\n",
      "[   213    231    257    292    626    695   1464 106958 251842 312108]\n",
      "[ 653  713  752  826 1088 1089 1118 1303 1307 1464]\n"
     ]
    }
   ],
   "source": [
    "ids_pack = db_pack.Patient.unique()\n",
    "ids_20f = db_20f.Patient.unique()\n",
    "ids_SABR = db_SABR.Patient.unique()\n",
    "\n",
    "print(ids_pack)\n",
    "print(ids_20f)\n",
    "print(ids_SABR)"
   ]
  },
  {
   "cell_type": "code",
   "execution_count": 32,
   "metadata": {},
   "outputs": [
    {
     "name": "stdout",
     "output_type": "stream",
     "text": [
      "[257, 292, 213]\n",
      "[1088]\n"
     ]
    }
   ],
   "source": [
    "ids_20f = list(set(ids_pack).intersection(ids_20f))\n",
    "ids_SABR = list(set(ids_pack).intersection(ids_SABR))\n",
    "\n",
    "print(ids_20f)\n",
    "print(ids_SABR)\n",
    "\n",
    "ids_SABR = [1088]"
   ]
  },
  {
   "cell_type": "code",
   "execution_count": 56,
   "metadata": {},
   "outputs": [
    {
     "name": "stdout",
     "output_type": "stream",
     "text": [
      "1088\n",
      "20120530\n",
      "[143057.56]\n",
      "DatetimeIndex(['1970-01-01 00:00:00.000143057'], dtype='datetime64[ns]', freq=None)\n",
      "20120601\n",
      "[143057.56]\n",
      "DatetimeIndex(['1970-01-01 00:00:00.000143057'], dtype='datetime64[ns]', freq=None)\n",
      "20120603\n",
      "[143057.56]\n",
      "DatetimeIndex(['1970-01-01 00:00:00.000143057'], dtype='datetime64[ns]', freq=None)\n",
      "20120606\n",
      "[143057.56]\n",
      "DatetimeIndex(['1970-01-01 00:00:00.000143057'], dtype='datetime64[ns]', freq=None)\n",
      "20120511\n",
      "[143057.56]\n",
      "DatetimeIndex(['1970-01-01 00:00:00.000143057'], dtype='datetime64[ns]', freq=None)\n"
     ]
    }
   ],
   "source": [
    "ids_SABR = [1088]\n",
    "for i in ids_SABR:\n",
    "    print(i)\n",
    "    df_pack_p = db_pack[db_pack['Patient'].isin([i])]\n",
    "    df_SABR_p = db_SABR[db_SABR['Patient'].isin([i])]\n",
    "\n",
    "    dates = df_SABR_p.DateofScan.unique()\n",
    "    \n",
    "    for d in dates:\n",
    "        print(d)\n",
    "        df_packs_d = df_pack_p[df_pack_p['DateofScan'].isin([d])]\n",
    "        #df_SABR_d = df_SABR_p[df_pack_p['DateofScan'].isin([d])]\n",
    "        \n",
    "        time = df_SABR_d.TimeofScan.unique()\n",
    "        print(time)\n",
    "        time = pd.to_datetime(time)\n",
    "        print(time)\n",
    "        \n",
    "        # for i in range(len(df_packs_d)):\n",
    "        #     df_packs_d[\"TimeDiff\"] = \n",
    "    \n",
    "        \n",
    "\n"
   ]
  }
 ],
 "metadata": {
  "interpreter": {
   "hash": "e7c37ba80a6e54a3d63188245ab5de6a3e0d381993bcb1990a7020536fc2299e"
  },
  "kernelspec": {
   "display_name": "Python 3.6.5 64-bit",
   "name": "python3"
  },
  "language_info": {
   "codemirror_mode": {
    "name": "ipython",
    "version": 3
   },
   "file_extension": ".py",
   "mimetype": "text/x-python",
   "name": "python",
   "nbconvert_exporter": "python",
   "pygments_lexer": "ipython3",
   "version": "3.6.5"
  },
  "orig_nbformat": 4
 },
 "nbformat": 4,
 "nbformat_minor": 2
}

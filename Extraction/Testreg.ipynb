{
 "cells": [
  {
   "cell_type": "code",
   "execution_count": 1,
   "metadata": {},
   "outputs": [],
   "source": [
    "from tempfile import tempdir\n",
    "import SimpleITK as sitk\n",
    "import numpy as np\n",
    "import numpy.ma as ma\n",
    "from matplotlib import pyplot\n",
    "import matplotlib.pyplot as plt\n",
    "import os\n",
    "import sys\n",
    "#import seaborn as sns\n",
    "import pandas as pd\n",
    "import radiomics"
   ]
  },
  {
   "cell_type": "code",
   "execution_count": null,
   "metadata": {},
   "outputs": [],
   "source": [
    "pat_df = pd.read_csv(\"D:\\\\data\\\\Aaron\\\\ProstateMRL\\\\Data\\\\MRLPacks\\\\MeanValues\\\\1307.csv\")\n",
    "\n",
    "base_df = pat_df[pat_df[\"Fraction\"].isin([1])]\n",
    "base_df = base_df[base_df[\"Scan\"].isin([1])]\n",
    "print(base_df)\n",
    "base_pros, base_glute, base_psoas = base_df.iloc[0][\"ShrunkProstate\"], base_df.iloc[0][\"Glute\"], base_df.iloc[0][\"Psoas\"]\n",
    "print(base_pros, base_glute, base_psoas)"
   ]
  },
  {
   "cell_type": "code",
   "execution_count": null,
   "metadata": {},
   "outputs": [],
   "source": [
    "mask_url = \"D:\\\\data\\\\prostateMR_radiomics\\\\nifti\\\\SABR\\\\0001088\\\\MR6\\\\Masks\\\\0001088_MR6_shrunk_pros.nii\"\n",
    "image_url = \"D:\\\\data\\\\prostateMR_radiomics\\\\nifti\\\\SABR\\\\0001088\\\\MR6\\\\BaseImages\\\\0001088_MR6_image.nii\"\n",
    "\n",
    "cropped_img, cropped_mask = get_cropped_image_specified_size(image_url, mask_url, [60,60,30])"
   ]
  },
  {
   "cell_type": "code",
   "execution_count": 6,
   "metadata": {},
   "outputs": [],
   "source": [
    "pat = \"0000653\"\n",
    "MR = \"MR6\""
   ]
  },
  {
   "cell_type": "code",
   "execution_count": 14,
   "metadata": {},
   "outputs": [
    {
     "name": "stdout",
     "output_type": "stream",
     "text": [
      "1.0\n",
      "1.0\n",
      "1.0\n",
      "(300, 480, 480)\n",
      "(300, 480, 480)\n",
      "(300, 480, 480)\n",
      "49.70669554398148\n",
      "Glute: 21.187713310580204\n",
      "Psoas: 13.047244094488189\n",
      "Pros: 54.44573245794009\n",
      "54.44573245794009\n"
     ]
    }
   ],
   "source": [
    "g_mask_url = \"D:\\\\data\\\\prostateMR_radiomics\\\\nifti\\\\SABR\\\\\" + pat + \"\\\\\"+ MR + \"\\\\Masks\\\\\" + pat+ \"_\" + MR + \"_glute.nii\"\n",
    "g_mask = sitk.ReadImage(g_mask_url)\n",
    "g_mask_a = sitk.GetArrayFromImage(g_mask)\n",
    "g_mask_a = g_mask_a/(np.max(g_mask_a))\n",
    "print(np.max(g_mask_a))\n",
    "#mask_a2 = ma.make_mask(mask_a)\n",
    "\n",
    "p_mask_url = \"D:\\\\data\\\\prostateMR_radiomics\\\\nifti\\\\SABR\\\\\" + pat + \"\\\\\"+ MR + \"\\\\Masks\\\\\" + pat+ \"_\" + MR + \"_psoas.nii\"\n",
    "p_mask = sitk.ReadImage(p_mask_url)\n",
    "p_mask_a = sitk.GetArrayFromImage(p_mask)\n",
    "p_mask_a = p_mask_a/(np.max(p_mask_a))\n",
    "print(np.max(p_mask_a))\n",
    "\n",
    "pr_mask_url = \"D:\\\\data\\\\prostateMR_radiomics\\\\nifti\\\\SABR\\\\\" + pat + \"\\\\\"+ MR + \"\\\\Masks\\\\\" + pat+ \"_\" + MR + \"_shrunk_pros.nii\"\n",
    "pr_mask = sitk.ReadImage(pr_mask_url)\n",
    "pr_mask_a = sitk.GetArrayFromImage(pr_mask)\n",
    "pr_mask_a = pr_mask_a/(np.max(pr_mask_a))\n",
    "print(np.max(pr_mask_a))\n",
    "\n",
    "\n",
    "image = sitk.ReadImage(\"D:\\\\data\\\\prostateMR_radiomics\\\\nifti\\\\SABR\\\\\" + pat + \"\\\\\"+ MR + \"\\\\Reg-Raw\\\\\" + pat+ \"_\" + MR + \"_reg_img_3.nii\")\n",
    "#image = sitk.ReadImage(\"D:\\\\data\\\\prostateMR_radiomics\\\\nifti\\\\SABR\\\\\" + pat + \"\\\\\"+ MR + \"\\\\BaseImages\\\\\" + pat+ \"_\" + MR + \"_image.nii\")\n",
    "image_a = sitk.GetArrayFromImage(image)\n",
    "\n",
    "#body_mask = sitk.ReadImage(\"D:\\\\data\\\\prostateMR_radiomics\\\\nifti\\\\SABR\\\\0001303\\\\MR5\\\\Masks\\\\0001303_MR5_body_mask.nii\")\n",
    "#body_mask_a = sitk.GetArrayFromImage(body_mask)\n",
    "\n",
    "\n",
    "#image_a = image_a*body_mask_a\n",
    "\n",
    "g_masked_image_a = ma.array(image_a, mask=np.logical_not(g_mask_a), keep_mask=False, hard_mask=True)\n",
    "p_masked_image_a = ma.array(image_a, mask=np.logical_not(p_mask_a), keep_mask=False, hard_mask=True)\n",
    "pr_masked_image_a = ma.array(image_a, mask=np.logical_not(pr_mask_a), keep_mask=False, hard_mask=True)\n",
    "#g_image_ar2 = image_a * g_mask_a\n",
    "#p_image_ar2 = image_a * p_mask_a\n",
    "\n",
    "print(g_mask_a.shape)\n",
    "print(p_mask_a.shape)\n",
    "print(image_a.shape)\n",
    "\n",
    "print(np.mean(image_a))  #Whole image\n",
    "print(\"Glute: \" + str(ma.mean(g_masked_image_a))) # masked image using ma module\n",
    "#print(np.mean(g_image_ar2)) # just multiplying \n",
    "print(\"Psoas: \" + str(ma.mean(p_masked_image_a))) # masked image using ma module\n",
    "print(\"Pros: \" + str(ma.mean(pr_masked_image_a)))\n",
    "#print(np.mean(p_image_ar2)) # just multiplying "
   ]
  },
  {
   "cell_type": "code",
   "execution_count": 11,
   "metadata": {},
   "outputs": [],
   "source": [
    "def get_cropped_image_specified_size(datafilename, maskfilename, size = [0,0,0], im = True):\n",
    "    image = datafilename\n",
    "    gtv_gen = maskfilename\n",
    "    \n",
    "    im = sitk.ReadImage(image)\n",
    "    \n",
    "    #if im == True:\n",
    "     #   im = sitk.Cast(sitk.IntensityWindowing(im, windowMinimum = 0, windowMaximum = 1500),\n",
    "      #                 sitk.sitkUInt8)\n",
    "    \n",
    "    msk = sitk.ReadImage(gtv_gen)\n",
    "    \n",
    "    bb, corrMask = radiomics.imageoperations.checkMask(im,msk)\n",
    "    \n",
    "    dimx = bb[1] - bb[0]\n",
    "    dimy = bb[3] - bb[2]\n",
    "    dimz = bb[5] - bb[4]\n",
    "    \n",
    "    padDistancex = int((size[0] - dimx)/2)\n",
    "    padDistancey = int((size[1] - dimy)/2)\n",
    "    padDistancez = int((size[2] - dimz)/2)\n",
    "    \n",
    "    cropped_im, cropped_msk = cropToTumorMaskSquare(im,msk,bb,padDistancex,padDistancey,padDistancez)\n",
    "    \n",
    "    return cropped_im, cropped_msk"
   ]
  },
  {
   "cell_type": "code",
   "execution_count": 13,
   "metadata": {},
   "outputs": [
    {
     "ename": "ValueError",
     "evalue": "Image/Mask geometry mismatch. Potential fix: increase tolerance using geometryTolerance, see Documentation:Usage:Customizing the Extraction:Settings:geometryTolerance for more information",
     "output_type": "error",
     "traceback": [
      "\u001b[1;31m---------------------------------------------------------------------------\u001b[0m",
      "\u001b[1;31mRuntimeError\u001b[0m                              Traceback (most recent call last)",
      "\u001b[1;32md:\\data\\Aaron\\ProstateMRL\\py-envs\\lib\\site-packages\\radiomics\\imageoperations.py\u001b[0m in \u001b[0;36mcheckMask\u001b[1;34m(imageNode, maskNode, **kwargs)\u001b[0m\n\u001b[0;32m    227\u001b[0m   \u001b[1;32mtry\u001b[0m\u001b[1;33m:\u001b[0m\u001b[1;33m\u001b[0m\u001b[0m\n\u001b[1;32m--> 228\u001b[1;33m     \u001b[0mlsif\u001b[0m\u001b[1;33m.\u001b[0m\u001b[0mExecute\u001b[0m\u001b[1;33m(\u001b[0m\u001b[0mimageNode\u001b[0m\u001b[1;33m,\u001b[0m \u001b[0mmaskNode\u001b[0m\u001b[1;33m)\u001b[0m\u001b[1;33m\u001b[0m\u001b[0m\n\u001b[0m\u001b[0;32m    229\u001b[0m \u001b[1;33m\u001b[0m\u001b[0m\n",
      "\u001b[1;32md:\\data\\Aaron\\ProstateMRL\\py-envs\\lib\\site-packages\\SimpleITK\\SimpleITK.py\u001b[0m in \u001b[0;36mExecute\u001b[1;34m(self, image, labelImage)\u001b[0m\n\u001b[0;32m  16077\u001b[0m         \u001b[1;34mr\"\"\"Execute(LabelStatisticsImageFilter self, Image image, Image labelImage)\"\"\"\u001b[0m\u001b[1;33m\u001b[0m\u001b[0m\n\u001b[1;32m> 16078\u001b[1;33m         \u001b[1;32mreturn\u001b[0m \u001b[0m_SimpleITK\u001b[0m\u001b[1;33m.\u001b[0m\u001b[0mLabelStatisticsImageFilter_Execute\u001b[0m\u001b[1;33m(\u001b[0m\u001b[0mself\u001b[0m\u001b[1;33m,\u001b[0m \u001b[0mimage\u001b[0m\u001b[1;33m,\u001b[0m \u001b[0mlabelImage\u001b[0m\u001b[1;33m)\u001b[0m\u001b[1;33m\u001b[0m\u001b[0m\n\u001b[0m\u001b[0;32m  16079\u001b[0m \u001b[1;33m\u001b[0m\u001b[0m\n",
      "\u001b[1;31mRuntimeError\u001b[0m: Exception thrown in SimpleITK LabelStatisticsImageFilter_Execute: d:\\a\\1\\sitk-build\\itk-prefix\\include\\itk-5.1\\itkImageSink.hxx:242:\nitk::ERROR: itk::ERROR: LabelStatisticsImageFilter(0000007CC35847C0): Inputs do not occupy the same physical space! \nInputImage Origin: [-1.9958331e+02, -1.9958331e+02, -1.4950000e+02], InputImagePrimary Origin: [-1.9958298e+02, -1.9958298e+02, -1.4950000e+02]\n\tTolerance: 8.3333969e-07\n",
      "\nDuring handling of the above exception, another exception occurred:\n",
      "\u001b[1;31mValueError\u001b[0m                                Traceback (most recent call last)",
      "\u001b[1;32m<ipython-input-13-9b6cd2422fd9>\u001b[0m in \u001b[0;36m<module>\u001b[1;34m\u001b[0m\n\u001b[0;32m      2\u001b[0m \u001b[0mpr_mask_url\u001b[0m \u001b[1;33m=\u001b[0m \u001b[1;34m\"D:\\\\data\\\\prostateMR_radiomics\\\\nifti\\\\SABR\\\\\"\u001b[0m \u001b[1;33m+\u001b[0m \u001b[0mpat\u001b[0m \u001b[1;33m+\u001b[0m \u001b[1;34m\"\\\\\"\u001b[0m\u001b[1;33m+\u001b[0m \u001b[0mMR\u001b[0m \u001b[1;33m+\u001b[0m \u001b[1;34m\"\\\\Masks\\\\\"\u001b[0m \u001b[1;33m+\u001b[0m \u001b[0mpat\u001b[0m\u001b[1;33m+\u001b[0m \u001b[1;34m\"_\"\u001b[0m \u001b[1;33m+\u001b[0m \u001b[0mMR\u001b[0m \u001b[1;33m+\u001b[0m \u001b[1;34m\"_shrunk_pros.nii\"\u001b[0m\u001b[1;33m\u001b[0m\u001b[0m\n\u001b[0;32m      3\u001b[0m \u001b[1;33m\u001b[0m\u001b[0m\n\u001b[1;32m----> 4\u001b[1;33m \u001b[0mcropped_img\u001b[0m\u001b[1;33m,\u001b[0m \u001b[0mcropped_mask\u001b[0m \u001b[1;33m=\u001b[0m \u001b[0mget_cropped_image_specified_size\u001b[0m\u001b[1;33m(\u001b[0m\u001b[0mimage_url\u001b[0m\u001b[1;33m,\u001b[0m \u001b[0mpr_mask_url\u001b[0m\u001b[1;33m,\u001b[0m \u001b[1;33m[\u001b[0m\u001b[1;36m60\u001b[0m\u001b[1;33m,\u001b[0m\u001b[1;36m60\u001b[0m\u001b[1;33m,\u001b[0m\u001b[1;36m30\u001b[0m\u001b[1;33m]\u001b[0m\u001b[1;33m)\u001b[0m\u001b[1;33m\u001b[0m\u001b[0m\n\u001b[0m",
      "\u001b[1;32m<ipython-input-11-225dc436a1ea>\u001b[0m in \u001b[0;36mget_cropped_image_specified_size\u001b[1;34m(datafilename, maskfilename, size, im)\u001b[0m\n\u001b[0;32m     11\u001b[0m     \u001b[0mmsk\u001b[0m \u001b[1;33m=\u001b[0m \u001b[0msitk\u001b[0m\u001b[1;33m.\u001b[0m\u001b[0mReadImage\u001b[0m\u001b[1;33m(\u001b[0m\u001b[0mgtv_gen\u001b[0m\u001b[1;33m)\u001b[0m\u001b[1;33m\u001b[0m\u001b[0m\n\u001b[0;32m     12\u001b[0m \u001b[1;33m\u001b[0m\u001b[0m\n\u001b[1;32m---> 13\u001b[1;33m     \u001b[0mbb\u001b[0m\u001b[1;33m,\u001b[0m \u001b[0mcorrMask\u001b[0m \u001b[1;33m=\u001b[0m \u001b[0mradiomics\u001b[0m\u001b[1;33m.\u001b[0m\u001b[0mimageoperations\u001b[0m\u001b[1;33m.\u001b[0m\u001b[0mcheckMask\u001b[0m\u001b[1;33m(\u001b[0m\u001b[0mim\u001b[0m\u001b[1;33m,\u001b[0m\u001b[0mmsk\u001b[0m\u001b[1;33m)\u001b[0m\u001b[1;33m\u001b[0m\u001b[0m\n\u001b[0m\u001b[0;32m     14\u001b[0m \u001b[1;33m\u001b[0m\u001b[0m\n\u001b[0;32m     15\u001b[0m     \u001b[0mdimx\u001b[0m \u001b[1;33m=\u001b[0m \u001b[0mbb\u001b[0m\u001b[1;33m[\u001b[0m\u001b[1;36m1\u001b[0m\u001b[1;33m]\u001b[0m \u001b[1;33m-\u001b[0m \u001b[0mbb\u001b[0m\u001b[1;33m[\u001b[0m\u001b[1;36m0\u001b[0m\u001b[1;33m]\u001b[0m\u001b[1;33m\u001b[0m\u001b[0m\n",
      "\u001b[1;32md:\\data\\Aaron\\ProstateMRL\\py-envs\\lib\\site-packages\\radiomics\\imageoperations.py\u001b[0m in \u001b[0;36mcheckMask\u001b[1;34m(imageNode, maskNode, **kwargs)\u001b[0m\n\u001b[0;32m    241\u001b[0m       \u001b[1;32melif\u001b[0m \u001b[1;34m\"Inputs do not occupy the same physical space!\"\u001b[0m \u001b[1;32min\u001b[0m \u001b[0me\u001b[0m\u001b[1;33m.\u001b[0m\u001b[0margs\u001b[0m\u001b[1;33m[\u001b[0m\u001b[1;36m0\u001b[0m\u001b[1;33m]\u001b[0m\u001b[1;33m:\u001b[0m\u001b[1;33m\u001b[0m\u001b[0m\n\u001b[0;32m    242\u001b[0m         \u001b[0mlogger\u001b[0m\u001b[1;33m.\u001b[0m\u001b[0mdebug\u001b[0m\u001b[1;33m(\u001b[0m\u001b[1;34m'Additional information on error.'\u001b[0m\u001b[1;33m,\u001b[0m \u001b[0mexc_info\u001b[0m\u001b[1;33m=\u001b[0m\u001b[1;32mTrue\u001b[0m\u001b[1;33m)\u001b[0m\u001b[1;33m\u001b[0m\u001b[0m\n\u001b[1;32m--> 243\u001b[1;33m         raise ValueError('Image/Mask geometry mismatch. Potential fix: increase tolerance using geometryTolerance, '\n\u001b[0m\u001b[0;32m    244\u001b[0m                          \u001b[1;34m'see Documentation:Usage:Customizing the Extraction:Settings:geometryTolerance for more '\u001b[0m\u001b[1;33m\u001b[0m\u001b[0m\n\u001b[0;32m    245\u001b[0m                          'information')\n",
      "\u001b[1;31mValueError\u001b[0m: Image/Mask geometry mismatch. Potential fix: increase tolerance using geometryTolerance, see Documentation:Usage:Customizing the Extraction:Settings:geometryTolerance for more information"
     ]
    }
   ],
   "source": [
    "image_url = \"D:\\\\data\\\\prostateMR_radiomics\\\\nifti\\\\SABR\\\\\" + pat + \"\\\\\"+ MR + \"\\\\Reg-Raw\\\\\" + pat+ \"_\" + MR + \"_reg_img_3.nii\"\n",
    "pr_mask_url = \"D:\\\\data\\\\prostateMR_radiomics\\\\nifti\\\\SABR\\\\\" + pat + \"\\\\\"+ MR + \"\\\\Masks\\\\\" + pat+ \"_\" + MR + \"_shrunk_pros.nii\"\n",
    "\n",
    "cropped_img, cropped_mask = get_cropped_image_specified_size(image_url, pr_mask_url, [60,60,30])"
   ]
  },
  {
   "cell_type": "code",
   "execution_count": 27,
   "metadata": {},
   "outputs": [
    {
     "ename": "AttributeError",
     "evalue": "'str' object has no attribute 'datatype'",
     "output_type": "error",
     "traceback": [
      "\u001b[1;31m---------------------------------------------------------------------------\u001b[0m",
      "\u001b[1;31mAttributeError\u001b[0m                            Traceback (most recent call last)",
      "\u001b[1;32m<ipython-input-27-5011f0da38fe>\u001b[0m in \u001b[0;36m<module>\u001b[1;34m\u001b[0m\n\u001b[0;32m      3\u001b[0m \u001b[0md1\u001b[0m \u001b[1;33m=\u001b[0m \u001b[1;34m\"20120620\"\u001b[0m\u001b[1;33m\u001b[0m\u001b[0m\n\u001b[0;32m      4\u001b[0m \u001b[0md2\u001b[0m \u001b[1;33m=\u001b[0m \u001b[1;34m\"20130704\"\u001b[0m\u001b[1;33m\u001b[0m\u001b[0m\n\u001b[1;32m----> 5\u001b[1;33m \u001b[0mprint\u001b[0m\u001b[1;33m(\u001b[0m\u001b[0md1\u001b[0m\u001b[1;33m.\u001b[0m\u001b[0mdatatype\u001b[0m\u001b[1;33m)\u001b[0m\u001b[1;33m\u001b[0m\u001b[0m\n\u001b[0m\u001b[0;32m      6\u001b[0m \u001b[1;33m\u001b[0m\u001b[0m\n\u001b[0;32m      7\u001b[0m \u001b[1;31m#day1, day2 = int(d1[-2:]), int(d2[-2:])\u001b[0m\u001b[1;33m\u001b[0m\u001b[1;33m\u001b[0m\u001b[0m\n",
      "\u001b[1;31mAttributeError\u001b[0m: 'str' object has no attribute 'datatype'"
     ]
    }
   ],
   "source": [
    "from datetime import datetime\n",
    "\n",
    "d1 = \"20120620\"\n",
    "d2 = \"20130704\"\n",
    "\n",
    "#day1, day2 = int(d1[-2:]), int(d2[-2:])\n",
    "def days_between(d1, d2):\n",
    "    d1 = datetime.strptime(d1, \"%Y%m%d\")\n",
    "    d2 = datetime.strptime(d2, \"%Y%m%d\")\n",
    "    return abs((d2 - d1).days)\n",
    "\n",
    "diff = days_between(d1,d2)\n",
    "print(diff)\n"
   ]
  },
  {
   "cell_type": "code",
   "execution_count": 26,
   "metadata": {},
   "outputs": [
    {
     "name": "stdout",
     "output_type": "stream",
     "text": [
      "2012-06-20\n"
     ]
    }
   ],
   "source": [
    "date = \"20120620\"\n",
    "d1 = datetime.strptime(date, \"%Y%m%d\")\n",
    "print(d1.date())"
   ]
  },
  {
   "cell_type": "code",
   "execution_count": null,
   "metadata": {},
   "outputs": [],
   "source": [
    "patID = \"1088\"\n",
    "patID_l = \"0001088\"\n",
    "\n",
    "url_20f = 'D:/data/prostateMR_radiomics/nifti/20fractions/'\n",
    "url_20f_new = 'D:/data/prostateMR_radiomics/nifti/20fractions_new/'\n",
    "url_SABR = 'D:/data/prostateMR_radiomics/nifti/SABR/'\n",
    "url_SABR_new = 'D:/data/prostateMR_radiomics/nifti/SABR_new/'\n",
    "\n",
    "url = url_SABR + patID_l \n",
    "scanDir = os.listdir(url)\n",
    "\n",
    "scan_info = pd.read_csv('D:/data/Aaron/ProstateMRL/Data/MRLPacks/ScanInfo/' + patID + '.csv')\n",
    "scan_info = scan_info.dropna()\n",
    "\n",
    "output = 'D:/data/Aaron/ProstateMRL/Data/Extraction/MRLPacks/MeanValues/' \n",
    "\n",
    "print(\"Patient Directory: \" + url)\n",
    "print(\"Output Directory: \" + output)\n",
    "\n",
    "#print(scan_info.head())\n"
   ]
  },
  {
   "cell_type": "code",
   "execution_count": null,
   "metadata": {},
   "outputs": [],
   "source": [
    "def MaskedImage(image_url, mask_url):\n",
    "    image = sitk.ReadImage(image_url)\n",
    "    image_array = sitk.GetArrayFromImage(image)\n",
    "    \n",
    "    mask = sitk.ReadImage(mask_url)\n",
    "    mask_array = sitk.GetArrayFromImage(mask) \n",
    "    if \"glute\" in mask_url:\n",
    "        mask_array = mask_array / 13\n",
    "    \n",
    "    if image_array.shape != mask_array.shape:\n",
    "       # print(image_url, mask_url)\n",
    "       # print(image_array.shape, mask_array.shape)\n",
    "        mean = np.nan\n",
    "        std = np.nan\n",
    "    \n",
    "    else:\n",
    "        masked_image = ma.masked_array(image_array, mask=np.logical_not(mask_array), keep_mask=True, hard_mask=True)\n",
    "        mean = np.mean(masked_image.flatten())\n",
    "        std = np.std(masked_image.flatten())\n",
    "\n",
    "\n",
    "    return mean \n",
    "    \n",
    "\n"
   ]
  },
  {
   "cell_type": "code",
   "execution_count": 9,
   "metadata": {},
   "outputs": [],
   "source": [
    "def GetNorm(image_name): \n",
    "    n = image_name\n",
    "\n",
    "    if \"reg\" in n:\n",
    "        Norm = \"Raw\"\n",
    "    elif \"pros\" in n:\n",
    "        Norm = \"Norm-Pros\"\n",
    "    elif \"glute\" in n:\n",
    "        Norm = \"Norm-Glute\"\n",
    "    elif \"psoas\" in n:\n",
    "        Norm = \"Norm-Psoas\"\n",
    "    elif \"TP\" in n:\n",
    "        Norm = \"HM-TP\"\n",
    "    elif \"FS\" in n:\n",
    "        Norm = \"HM-FS\"\n",
    "    else:\n",
    "        Norm = \"-\"\n",
    "    \n",
    "    return Norm\n",
    "\n",
    "def GetRegion(mask_name):\n",
    "    n = mask_name\n",
    "\n",
    "    if \"pros\" in n:\n",
    "        Region = \"Prostate\"\n",
    "    elif \"glute\" in n: \n",
    "        Region = \"Glute\"\n",
    "    elif \"psoas\" in n:\n",
    "        Region = \"Psoas\"\n",
    "    else:\n",
    "        Region = \"-\"\n",
    "    \n",
    "    return Region\n",
    "\n"
   ]
  },
  {
   "cell_type": "code",
   "execution_count": 14,
   "metadata": {},
   "outputs": [
    {
     "name": "stdout",
     "output_type": "stream",
     "text": [
      "20fractions\n"
     ]
    }
   ],
   "source": [
    "test = \"D:\\\\data\\\\prostateMR_radiomics\\\\nifti\\\\20fractions\\\\\"\n",
    "print(test.split(\"\\\\\")[4])"
   ]
  },
  {
   "cell_type": "markdown",
   "metadata": {},
   "source": []
  },
  {
   "cell_type": "code",
   "execution_count": 40,
   "metadata": {},
   "outputs": [
    {
     "data": {
      "text/plain": [
       "47.206125206425455"
      ]
     },
     "execution_count": 40,
     "metadata": {},
     "output_type": "execute_result"
    }
   ],
   "source": [
    "df = pd.read_csv(\"D:\\\\data\\\\Aaron\\\\ProstateMRL\\\\Data\\\\MRLPacks\\\\InterFractionChanges\\\\0000752.csv\")\n",
    "df.loc[(df.Region == \"Prostate\") & (df.Normalisation == \"Raw\") & (df.Fraction == int(1))][\"MeanSignal\"].iloc[0]"
   ]
  },
  {
   "cell_type": "code",
   "execution_count": 20,
   "metadata": {},
   "outputs": [
    {
     "name": "stdout",
     "output_type": "stream",
     "text": [
      "50\n"
     ]
    }
   ],
   "source": [
    "test = {\"Raw\": {\"Pros\": 100, \"Glute\": 50},\n",
    "        \"Norm\": {\"Pros\": 10, \"Glute\": 5}}\n",
    "region = \"Glute\"\n",
    "norm = \"Raw\"\n",
    "print(test[norm][region])"
   ]
  },
  {
   "cell_type": "code",
   "execution_count": null,
   "metadata": {},
   "outputs": [],
   "source": [
    "results_df = pd.DataFrame(columns=[\"PatID\", \"MRCont\", \"Fraction\",\"ScanDate\", \"ScanTime\", \"Scan\", \"Region\", \"MeanSignal\", \"TimeDiff\",\"SignalDiff\"])\n",
    "scanValues = {\"PatID\":[], \"MRCont\":[], \"Fraction\":[], \"ScanDate\":[], \"ScanTime\":[], \"Scan\":[], \"Region\": [], \"MeanSignal\":[], \"TimeDiff\":[], \"SignalDiff\":[]}"
   ]
  },
  {
   "cell_type": "code",
   "execution_count": null,
   "metadata": {},
   "outputs": [],
   "source": [
    "fractions = scan_info.Fraction.unique()\n",
    "MRs = scan_info.MRContour.unique()\n",
    "#print(fractions)\n",
    "for i in fractions:\n",
    "    #print(i)\n",
    "    MR = MRs[i].replace(' ', '')\n",
    "    fraction = fractions[i]\n",
    "\n",
    "    temp_df = scan_info.loc[scan_info['Fraction'] == fractions[i]]\n",
    "    #temp_df = scan_info.loc[scan_info['Fraction'] == fractions[i]]\n",
    "    print('Pat: ' + patID + ' Fraction: ' + str(fraction) + ' MR: ' + MR)\n",
    "\n",
    "    scanValues[\"PatID\"] = patID\n",
    "    scanValues[\"MRCont\"] = MR\n",
    "    scanValues[\"Fraction\"] = fraction\n",
    "    \n",
    "    scanValues[\"ScanDate\"] = temp_df.ContourDate.unique()[0]\n",
    "    scantimes = temp_df.ScanTime.unique()\n",
    "\n",
    "    scanValues[\"Observer\"] = \"RP\"\n",
    "    scanValues[\"Region\"] = \"Prostate\" # change when add in more\n",
    "\n",
    "    \n",
    "    numberofscans = -1\n",
    "    for j in os.scandir(url + '/' + MR):\n",
    "        #print(j.name)\n",
    "        file = j.name\n",
    "        glute_url = url + '/' + MR + '/' + patID_l + '_' + MR + '_glute.nii'\n",
    "        pros_url = url + '/' + MR + '/' + patID_l + '_' + MR + '_shrunk_pros.nii'\n",
    "        psoas_url = url + '/' + MR + '/' + patID_l + '_' + MR + '_psoas.nii'\n",
    "\n",
    "        mask_urls = [pros_url, glute_url, psoas_url]\n",
    "\n",
    "        s = -1\n",
    "        if \"reg\" in file:\n",
    "            s = s + 1\n",
    "            scan = file.split(\"_\")\n",
    "            scan = scan[4]\n",
    "            scan = int(scan[0:1])\n",
    "            scanValues[\"Scan\"] = scan\n",
    "\n",
    "            scanValues[\"ScanTime\"] = scantimes[numberofscans]\n",
    "\n",
    "            image_url = url + '/' + MR + '/' + file\n",
    "            for k in range(len(mask_urls)):\n",
    "                mean = MaskedImage(image_url, mask_urls[k])\n",
    "                scanValues[\"Mean\"] = mean\n",
    "                if k == 0:\n",
    "                    print(\"Prostate: \" + mask_urls[k])\n",
    "                    scanValues[\"Region\"] = \"Prostate\"\n",
    "                elif k == 1:\n",
    "                    print(\"Glute\")\n",
    "                    scanValues[\"Region\"] = \"Glute\"\n",
    "                elif k == 2:\n",
    "                    scanValues[\"Region\"] = \"Psoas\"\n",
    "\n",
    "                if scan == 1:\n",
    "                    firstmean = mean\n",
    "                    scanValues[\"SignalDiff\"] = 0\n",
    "                else:\n",
    "                    scanValues[\"SignalDiff\"] = mean - firstmean\n",
    "                #print(file)\n",
    "                #print(\" Pros: \" + str(pros_image))\n",
    "                results_df = results_df.append(scanValues, ignore_index=True)\n",
    "\n",
    "                 \n",
    "\n"
   ]
  },
  {
   "cell_type": "code",
   "execution_count": null,
   "metadata": {},
   "outputs": [],
   "source": [
    "df = pd.read_csv('D:/data/Aaron/ProstateMRL/Data/MRLPacks/MeanValues/0001088.csv')\n",
    "\n"
   ]
  }
 ],
 "metadata": {
  "interpreter": {
   "hash": "fd78d60c78312e2835784dd761e640488478adfd13dfcaae9b4668852672f22d"
  },
  "kernelspec": {
   "display_name": "Python 3.6.5 64-bit ('py-envs': virtualenv)",
   "name": "python3"
  },
  "language_info": {
   "codemirror_mode": {
    "name": "ipython",
    "version": 3
   },
   "file_extension": ".py",
   "mimetype": "text/x-python",
   "name": "python",
   "nbconvert_exporter": "python",
   "pygments_lexer": "ipython3",
   "version": "3.6.5"
  },
  "orig_nbformat": 4
 },
 "nbformat": 4,
 "nbformat_minor": 2
}

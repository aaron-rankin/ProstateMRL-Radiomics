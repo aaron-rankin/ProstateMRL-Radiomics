{
 "cells": [
  {
   "cell_type": "code",
   "execution_count": 46,
   "metadata": {},
   "outputs": [],
   "source": [
    "from tempfile import tempdir\n",
    "import SimpleITK as sitk\n",
    "import numpy as np\n",
    "import numpy.ma as ma\n",
    "from matplotlib import pyplot\n",
    "import matplotlib.pyplot as plt\n",
    "import os\n",
    "import sys\n",
    "#import seaborn as sns\n",
    "import pandas as pd"
   ]
  },
  {
   "cell_type": "code",
   "execution_count": 51,
   "metadata": {},
   "outputs": [
    {
     "name": "stdout",
     "output_type": "stream",
     "text": [
      "Patient Directory: D:/data/prostateMR_radiomics/nifti/SABR/0001088\n",
      "Output Directory: D:/data/Aaron/ProstateMRL/Data/Extraction/MRLPacks/MeanValues/\n"
     ]
    }
   ],
   "source": [
    "patID = \"1088\"\n",
    "patID_l = \"0001088\"\n",
    "\n",
    "url_20f = 'D:/data/prostateMR_radiomics/nifti/20fractions/'\n",
    "url_20f_new = 'D:/data/prostateMR_radiomics/nifti/20fractions_new/'\n",
    "url_SABR = 'D:/data/prostateMR_radiomics/nifti/SABR/'\n",
    "url_SABR_new = 'D:/data/prostateMR_radiomics/nifti/SABR_new/'\n",
    "\n",
    "url = url_SABR + patID_l \n",
    "scanDir = os.listdir(url)\n",
    "\n",
    "scan_info = pd.read_csv('D:/data/Aaron/ProstateMRL/Data/MRLPacks/ScanInfo/' + patID + '.csv')\n",
    "scan_info = scan_info.dropna()\n",
    "\n",
    "output = 'D:/data/Aaron/ProstateMRL/Data/Extraction/MRLPacks/MeanValues/' \n",
    "\n",
    "print(\"Patient Directory: \" + url)\n",
    "print(\"Output Directory: \" + output)\n",
    "\n",
    "#print(scan_info.head())\n"
   ]
  },
  {
   "cell_type": "code",
   "execution_count": 52,
   "metadata": {},
   "outputs": [],
   "source": [
    "def MaskedImage(image_array, mask_url):\n",
    "    image = sitk.ReadImage(image_url)\n",
    "    image_array = sitk.GetArrayFromImage(image)\n",
    "    \n",
    "    mask = sitk.ReadImage(mask_url)\n",
    "    mask_array = sitk.GetArrayFromImage(mask) \n",
    "    if \"glute\" in mask_url:\n",
    "        mask_array = mask_array / 13\n",
    "    \n",
    "    if image_array.shape != mask_array.shape:\n",
    "       # print(image_url, mask_url)\n",
    "       # print(image_array.shape, mask_array.shape)\n",
    "        mean = np.nan\n",
    "        std = np.nan\n",
    "    \n",
    "    else:\n",
    "        masked_image = ma.masked_array(image_array, mask=np.logical_not(mask_array), keep_mask=True, hard_mask=True)\n",
    "        mean = np.mean(masked_image.flatten())\n",
    "        std = np.std(masked_image.flatten())\n",
    "\n",
    "    return mean, std    \n",
    "    \n",
    "\n"
   ]
  },
  {
   "cell_type": "code",
   "execution_count": 53,
   "metadata": {},
   "outputs": [],
   "source": [
    "results_df = pd.DataFrame(columns=[\"PatID\", \"MRCont\", \"Fraction\",\"ScanDate\", \"ScanTime\", \"Scan\", \"Observer\", \"Region\", \"Mean\"])\n",
    "scanValues = {\"PatID\":[], \"MRCont\":[], \"Fraction\":[], \"ScanDate\":[], \"ScanTime\":[], \"Scan\":[], \"Observer\": [], \"Region\": [], \"Mean\":[]}"
   ]
  },
  {
   "cell_type": "code",
   "execution_count": 56,
   "metadata": {},
   "outputs": [
    {
     "name": "stdout",
     "output_type": "stream",
     "text": [
      "Pat: 1088 Fraction: 0 MR: MR6\n",
      "0001088_MR6_reg_img_1.nii\n",
      "0001088_MR6_reg_img_2.nii\n",
      "0001088_MR6_reg_img_3.nii\n",
      "0001088_MR6_reg_img_6.nii\n",
      "Pat: 1088 Fraction: 1 MR: MR10\n",
      "0001088_MR10_reg_img_1.nii\n",
      "0001088_MR10_reg_img_2.nii\n",
      "0001088_MR10_reg_img_3.nii\n",
      "0001088_MR10_reg_img_4.nii\n",
      "Pat: 1088 Fraction: 2 MR: MR13\n",
      "0001088_MR13_reg_img_1.nii\n",
      "0001088_MR13_reg_img_2.nii\n",
      "0001088_MR13_reg_img_3.nii\n",
      "0001088_MR13_reg_img_4.nii\n",
      "Pat: 1088 Fraction: 3 MR: MR19\n",
      "0001088_MR19_reg_img_1.nii\n",
      "0001088_MR19_reg_img_2.nii\n",
      "0001088_MR19_reg_img_3.nii\n",
      "0001088_MR19_reg_img_4.nii\n",
      "0001088_MR19_reg_img_5.nii\n",
      "0001088_MR19_reg_img_6.nii\n",
      "Pat: 1088 Fraction: 4 MR: MR25\n",
      "0001088_MR25_reg_img_1.nii\n",
      "0001088_MR25_reg_img_2.nii\n",
      "0001088_MR25_reg_img_3.nii\n",
      "0001088_MR25_reg_img_4.nii\n",
      "0001088_MR25_reg_img_5.nii\n",
      "0001088_MR25_reg_img_6.nii\n"
     ]
    }
   ],
   "source": [
    "fractions = scan_info.Fraction.unique()\n",
    "MRs = scan_info.MRContour.unique()\n",
    "#print(fractions)\n",
    "for i in fractions:\n",
    "    #print(i)\n",
    "    MR = MRs[i].replace(' ', '')\n",
    "    fraction = fractions[i]\n",
    "\n",
    "    temp_df = scan_info.loc[scan_info['Fraction'] == fractions[i]]\n",
    "    #temp_df = scan_info.loc[scan_info['Fraction'] == fractions[i]]\n",
    "    print('Pat: ' + patID + ' Fraction: ' + str(fraction) + ' MR: ' + MR)\n",
    "\n",
    "    scanValues[\"PatID\"] = patID\n",
    "    scanValues[\"MRCont\"] = MR\n",
    "    scanValues[\"Fraction\"] = fraction\n",
    "    \n",
    "    scanValues[\"ScanDate\"] = temp_df.ContourDate.unique()[0]\n",
    "    scantimes = temp_df.ScanTime.unique()\n",
    "\n",
    "    scanValues[\"Observer\"] = \"RP\"\n",
    "    scanValues[\"Region\"] = \"Prostate\" # change when add in more\n",
    "\n",
    "    \n",
    "    numberofscans = 0\n",
    "    for j in os.scandir(url + '/' + MR):\n",
    "        #print(j.name)\n",
    "        file = j.name\n",
    "        glute_url = url + '/' + MR + '/' + patID_l + '_' + MR + '_glute.nii'\n",
    "        pros_url = url + '/' + MR + '/' + patID_l + '_' + MR + '_shrunk_pros.nii'\n",
    "        \n",
    "        if \"reg\" in file:\n",
    "            numberofscans = numberofscans + 1\n",
    "            scan = file.split(\"_\")\n",
    "            scan = scan[4]\n",
    "            scan = int(scan[0:1])\n",
    "            scanValues[\"Scan\"] = scan\n",
    "\n",
    "            scanValues[\"ScanTime\"] = scantimes[numberofscans - 1]\n",
    "\n",
    "            image_url = url + '/' + MR + '/' + file\n",
    "            #glute_image = MaskedImage(image_url,glute_url)[1]\n",
    "            pros_image = MaskedImage(image_url, pros_url)[1]\n",
    "            scanValues[\"Mean\"] = pros_image\n",
    "            print(file)\n",
    "            #print(\" Pros: \" + str(pros_image))\n",
    "            results_df = results_df.append(scanValues, ignore_index=True)\n",
    "\n",
    "                 \n"
   ]
  },
  {
   "cell_type": "code",
   "execution_count": null,
   "metadata": {},
   "outputs": [],
   "source": [
    "firstmean = results_df.iloc[0]['Mean']\n",
    "results_df[\"SignalDiff\"] = firstmean - results_df['Mean']"
   ]
  },
  {
   "cell_type": "code",
   "execution_count": null,
   "metadata": {},
   "outputs": [
    {
     "data": {
      "text/plain": [
       "<AxesSubplot:xlabel='Fraction', ylabel='SignalDiff'>"
      ]
     },
     "execution_count": 45,
     "metadata": {},
     "output_type": "execute_result"
    },
    {
     "data": {
      "image/png": "[encoded data removed]",
      "text/plain": [
       "<Figure size 432x288 with 1 Axes>"
      ]
     },
     "metadata": {
      "needs_background": "light"
     },
     "output_type": "display_data"
    }
   ],
   "source": [
    "results_df.plot(x='Fraction', y='SignalDiff', kind='scatter')"
   ]
  }
 ],
 "metadata": {
  "interpreter": {
   "hash": "e7c37ba80a6e54a3d63188245ab5de6a3e0d381993bcb1990a7020536fc2299e"
  },
  "kernelspec": {
   "display_name": "Python 3.6.5 64-bit",
   "name": "python3"
  },
  "language_info": {
   "codemirror_mode": {
    "name": "ipython",
    "version": 3
   },
   "file_extension": ".py",
   "mimetype": "text/x-python",
   "name": "python",
   "nbconvert_exporter": "python",
   "pygments_lexer": "ipython3",
   "version": "3.6.5"
  },
  "orig_nbformat": 4
 },
 "nbformat": 4,
 "nbformat_minor": 2
}

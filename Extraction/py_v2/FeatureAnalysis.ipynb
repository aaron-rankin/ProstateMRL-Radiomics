{
 "cells": [
  {
   "cell_type": "code",
   "execution_count": 9,
   "metadata": {},
   "outputs": [
    {
     "name": "stdout",
     "output_type": "stream",
     "text": [
      "v3.0.1\n"
     ]
    }
   ],
   "source": [
    "from pydoc import pathdirs\n",
    "import SimpleITK as sitk\n",
    "from matplotlib.pyplot import contour\n",
    "import numpy as np\n",
    "import pandas as pd\n",
    "import os\n",
    "import UsefulFunctions as UF\n",
    "from datetime import datetime\n",
    "import radiomics\n",
    "print(radiomics.__version__)\n",
    "from radiomics import featureextractor"
   ]
  },
  {
   "cell_type": "code",
   "execution_count": 10,
   "metadata": {},
   "outputs": [],
   "source": [
    "key_df = pd.read_csv(\"D:\\\\data\\\\Aaron\\\\ProstateMRL\\\\Data\\\\PatientKey_sorted.csv\")\n",
    "treatments = key_df.Treatment.unique()"
   ]
  },
  {
   "cell_type": "code",
   "execution_count": 11,
   "metadata": {},
   "outputs": [],
   "source": [
    "# Inter-fraction signal changes\n",
    "sig_url = \"D:\\\\data\\\\Aaron\\\\ProstateMRL\\\\Data\\\\MRLPacks\\\\InterFractionChanges_v2\\\\\"\n",
    "sig_changes = os.listdir(sig_url)\n",
    "\n",
    "sig_all_df = pd.DataFrame()\n",
    "\n",
    "for i in sig_changes:\n",
    "    pat_df = pd.read_csv((sig_url + i))\n",
    "    sig_all_df = sig_all_df.append(pat_df)\n",
    "\n",
    "sig_all_df.to_csv(\"D:\\\\data\\\\Aaron\\\\ProstateMRL\\\\Data\\\\MRLPacks\\\\Combined_csvs\\\\Signal_changes.csv\")"
   ]
  },
  {
   "cell_type": "code",
   "execution_count": 13,
   "metadata": {},
   "outputs": [
    {
     "name": "stdout",
     "output_type": "stream",
     "text": [
      "['0000213', '0000231', '0000257', '0000292', '0000626', '0000653', '0000695', '0000713', '0000752', '0000826', '0001088', '0001089', '0001118', '0001303', '0001307', '0001464_20f', '0001464_SABR', '106958', '251842', '312108']\n",
      "['Raw' 'Norm-Glute' 'Norm-Pros' 'Norm-Psoas' 'HM-FS' 'HM-TP']\n",
      "Raw\n",
      "Norm-Glute\n",
      "Norm-Pros\n",
      "Norm-Psoas\n",
      "HM-FS\n",
      "HM-TP\n"
     ]
    }
   ],
   "source": [
    "feature_url = \"D:\\\\data\\\\Aaron\\\\ProstateMRL\\\\Data\\\\MRLPacks\\\\FeatureExtraction\\\\\"\n",
    "features_dir = os.listdir(feature_url)\n",
    "print(features_dir)\n",
    "Norms = sig_all_df.Normalisation.unique()\n",
    "print(Norms)\n",
    "for n in Norms:\n",
    "    print(n)\n",
    "    all_df = pd.DataFrame()\n",
    "    for i in features_dir:\n",
    "        scans_dir = os.listdir((feature_url + str(i)))\n",
    "        #print(scans_dir)\n",
    "\n",
    "        for j in scans_dir:\n",
    "            ft_csvs = os.listdir((feature_url + str(i) + \"\\\\\" +str(j)))\n",
    "\n",
    "            for k in ft_csvs:\n",
    "                \n",
    "                csv_name = os.path.join(feature_url, str(i), str(j), k)\n",
    "                if n in k:\n",
    "                    pat_df = pd.read_csv(csv_name)\n",
    "                    all_df = all_df.append(pat_df)\n",
    "\n",
    "    all_df.to_csv(\"D:\\\\data\\\\Aaron\\\\ProstateMRL\\\\Data\\\\MRLPacks\\\\Combined_csvs\\\\Features_\" + n + \".csv\")\n"
   ]
  },
  {
   "cell_type": "code",
   "execution_count": null,
   "metadata": {},
   "outputs": [],
   "source": []
  }
 ],
 "metadata": {
  "interpreter": {
   "hash": "fd78d60c78312e2835784dd761e640488478adfd13dfcaae9b4668852672f22d"
  },
  "kernelspec": {
   "display_name": "Python 3.6.5 64-bit ('py-envs': virtualenv)",
   "name": "python3"
  },
  "language_info": {
   "codemirror_mode": {
    "name": "ipython",
    "version": 3
   },
   "file_extension": ".py",
   "mimetype": "text/x-python",
   "name": "python",
   "nbconvert_exporter": "python",
   "pygments_lexer": "ipython3",
   "version": "3.6.5"
  },
  "orig_nbformat": 4
 },
 "nbformat": 4,
 "nbformat_minor": 2
}

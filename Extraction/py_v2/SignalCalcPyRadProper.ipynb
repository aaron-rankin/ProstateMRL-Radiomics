{
 "cells": [
  {
   "cell_type": "code",
   "execution_count": 1,
   "metadata": {},
   "outputs": [],
   "source": [
    "from tempfile import tempdir\n",
    "import SimpleITK as sitk\n",
    "import numpy as np\n",
    "import numpy.ma as ma\n",
    "from matplotlib import pyplot\n",
    "import matplotlib.pyplot as plt\n",
    "import os\n",
    "import sys\n",
    "#import seaborn as sns\n",
    "import UsefulFunctions as UF\n",
    "import pandas as pd\n",
    "import radiomics"
   ]
  },
  {
   "cell_type": "code",
   "execution_count": 10,
   "metadata": {},
   "outputs": [
    {
     "name": "stdout",
     "output_type": "stream",
     "text": [
      "80.84616825932171 77.0\n"
     ]
    }
   ],
   "source": [
    "image = \"D:\\\\data\\\\prostateMR_radiomics\\\\nifti\\\\20fractions\\\\0000257\\\\MR36\\\\BaseImages\\\\0000257_MR36_image.nii\"\n",
    "mask = \"D:\\\\data\\\\prostateMR_radiomics\\\\nifti\\\\20fractions\\\\0000257\\\\MR36\\\\Masks\\\\0000257_MR36_shrunk_pros.nii\"\n",
    "\n",
    "def MaskedMeanMed(image_url, mask_url):\n",
    "    '''\n",
    "    Returns mean and std of masked image\n",
    "    Input - image path and mask path\n",
    "    Output - mean and median (floats)\n",
    "    '''\n",
    "\n",
    "    image = sitk.ReadImage(image_url)\n",
    "    image_array = sitk.GetArrayFromImage(image)\n",
    "    \n",
    "    mask = sitk.ReadImage(mask_url)\n",
    "    mask_array = sitk.GetArrayFromImage(mask) \n",
    "    mask_array = mask_array / (np.max(mask_array))\n",
    "    if image_array.shape != mask_array.shape:\n",
    "        mean = np.nan\n",
    "        med = np.nan\n",
    "    \n",
    "    else:\n",
    "        masked_image = ma.array(image_array, mask=np.logical_not(mask_array), keep_mask=False, hard_mask=True)\n",
    "        mean = ma.mean(masked_image)\n",
    "        masked_image = masked_image[~masked_image.mask]\n",
    "        med = ma.median(masked_image)\n",
    "       \n",
    "    return mean, med\n",
    "\n",
    "mean, med = MaskedMeanMed(image, mask)\n",
    "print(mean, med)"
   ]
  },
  {
   "cell_type": "code",
   "execution_count": 56,
   "metadata": {},
   "outputs": [
    {
     "name": "stdout",
     "output_type": "stream",
     "text": [
      "10\n",
      "10\n",
      "     Patient    Treatment  Scan  DateofScan\n",
      "11       653         SABR   MR6    20111207\n",
      "0        653         SABR  MR14    20111211\n",
      "3        653         SABR  MR17    20111214\n",
      "6        653         SABR  MR21    20111216\n",
      "8        653         SABR  MR23    20111218\n",
      "..       ...          ...   ...         ...\n",
      "127   312108  20fractions  MR35    20191007\n",
      "129   312108  20fractions  MR37    20191008\n",
      "132   312108  20fractions  MR50    20191014\n",
      "134   312108  20fractions  MR52    20191015\n",
      "135   312108  20fractions  MR62    20191018\n",
      "\n",
      "[98 rows x 4 columns]\n"
     ]
    }
   ],
   "source": [
    "scaninfo = pd.read_csv(\"D:\\\\\\\\data\\\\Aaron\\\\ProstateMRL\\\\Data\\\\PatientKey.csv\")\n",
    "scaninfo.head()\n",
    "patIDs = scaninfo.Patient.unique()\n",
    "scaninfo.reset_index(drop=True)\n",
    "#print(patIDs)\n",
    "s, f = 0,0\n",
    "res_df = pd.DataFrame()\n",
    "treatments = scaninfo.Treatment.unique()\n",
    "for t in treatments:\n",
    "    scans = scaninfo.loc[scaninfo[\"Treatment\"] == t] \n",
    "    treatmentIDs = scans.Patient.unique()\n",
    "    print(len(treatmentIDs))\n",
    "    for i in treatmentIDs:\n",
    "        pat_df = scans.loc[scans[\"Patient\"] == i]\n",
    "        #print(pat_df.head())\n",
    "        dates = pat_df.DateofScan.unique()\n",
    "        sorted_df = pd.DataFrame()\n",
    "        #print(i, dates)\n",
    "        for j in dates:\n",
    "            date_df = pat_df.loc[pat_df[\"DateofScan\"] == j]\n",
    "            #print(date_df.head(1))\n",
    "            sorted_df = sorted_df.append(date_df.head(1))\n",
    "        \n",
    "        sorted_df[\"Scan\"] = sorted_df[\"Scan\"].str.replace(\" MR\", \"\")\n",
    "        sorted_df[\"Scan\"] = pd.to_numeric(sorted_df[\"Scan\"])\n",
    "        sorted_df = sorted_df.sort_values([\"Scan\"])\n",
    "        sorted_df[\"Scan\"] = \"MR\" + sorted_df[\"Scan\"].astype(str)\n",
    "        res_df = res_df.append(sorted_df)\n",
    "\n",
    "print(res_df)\n",
    "    \n",
    "\n",
    "res_df.reset_index(drop=True, inplace=True)\n",
    "res_df.to_csv(\"D:\\\\data\\\\Aaron\\\\ProstateMRL\\\\Data\\\\PatientKey_sorted.csv\")"
   ]
  },
  {
   "cell_type": "code",
   "execution_count": 69,
   "metadata": {},
   "outputs": [
    {
     "name": "stdout",
     "output_type": "stream",
     "text": [
      "[   213    231    257    292    626    695   1464 106958 251842 312108\n",
      "    653    713    752    826   1088   1089   1118   1303   1307]\n",
      "Prostate 32.44661970076236 61.848311894988704\n",
      "Glute 24.06402131614344 12.809070375169222\n",
      "Psoas 10.061523848040691 14.5320377283742\n"
     ]
    }
   ],
   "source": [
    "mean_std = pd.read_csv(\"D:\\data\\Aaron\\ProstateMRL\\Data\\MRLPacks\\InterFractionChanges_v2\\All_std.csv\")\n",
    "\n",
    "regions = mean_std.Region.unique()\n",
    "norms = mean_std.Normalisation.unique()\n",
    "patients = mean_std.PatID.unique()\n",
    "print(patients)\n",
    "\n",
    "for r in regions:\n",
    "    region_df = mean_std.loc[mean_std.Region == r]\n",
    "\n",
    "    norm_df = region_df.loc[region_df.Normalisation == \"Raw\"]\n",
    "    stds = []\n",
    "    means = []\n",
    "    perc90 = []\n",
    "    for p in patients:\n",
    "        pat_df = norm_df.loc[norm_df.PatID == p]\n",
    "        #print(r, p, np.mean(pat_df[\"StdSignal\"]))\n",
    "        std = np.mean(pat_df[\"StdSignal\"])\n",
    "        stds.append(std)\n",
    "        mean = np.mean(pat_df[\"MeanSignal\"])\n",
    "        means.append(mean)\n",
    "        percs = np.mean(pat_df[\"90thPerc\"])\n",
    "        perc90.append(percs)\n",
    "    \n",
    "    print(r, np.mean(stds), np.mean(means))#, np.mean(perc90))\n",
    "\n",
    "\n",
    "            \n",
    "\n"
   ]
  }
 ],
 "metadata": {
  "interpreter": {
   "hash": "fd78d60c78312e2835784dd761e640488478adfd13dfcaae9b4668852672f22d"
  },
  "kernelspec": {
   "display_name": "Python 3.6.5 64-bit ('py-envs': virtualenv)",
   "name": "python3"
  },
  "language_info": {
   "codemirror_mode": {
    "name": "ipython",
    "version": 3
   },
   "file_extension": ".py",
   "mimetype": "text/x-python",
   "name": "python",
   "nbconvert_exporter": "python",
   "pygments_lexer": "ipython3",
   "version": "3.6.5"
  },
  "orig_nbformat": 4
 },
 "nbformat": 4,
 "nbformat_minor": 2
}
